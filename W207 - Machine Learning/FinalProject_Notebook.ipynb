{
 "cells": [
  {
   "cell_type": "code",
   "execution_count": 5,
   "metadata": {},
   "outputs": [],
   "source": [
    "import pandas as pd\n",
    "import numpy as np\n",
    "import matplotlib.pyplot as plt\n",
    "import sklearn\n",
    "from sklearn.feature_extraction.text import CountVectorizer,TfidfVectorizer\n",
    "from sklearn.model_selection import train_test_split\n",
    "from sklearn.neighbors import KNeighborsClassifier\n",
    "from sklearn.linear_model import LogisticRegression, LinearRegression\n",
    "from sklearn.naive_bayes import BernoulliNB\n",
    "from sklearn.ensemble import RandomForestClassifier, GradientBoostingClassifier\n",
    "#from sklearn.grid_search import GridSearchCV\n",
    "from sklearn.metrics import accuracy_score, f1_score, confusion_matrix\n",
    "\n",
    "import scipy as sp\n",
    "from scipy.sparse import coo_matrix, hstack"
   ]
  },
  {
   "cell_type": "code",
   "execution_count": 6,
   "metadata": {},
   "outputs": [],
   "source": [
    "#Helper functions for data processing\n",
    "\n",
    "#round float numbers to 0.5 values for dummy value use - HBA1C attribute\n",
    "def roundToHalf(value):\n",
    "    return round(float(value)*2)/2\n",
    "\n",
    "#Automate grid search for any given model/parameter set\n",
    "def HyperParameters(model, parameters, data, label):\n",
    "    Search = GridSearchCV(model, parameters)\n",
    "    Search.fit(data, label)\n",
    "    return(pd.DataFrame(Search.grid_scores_)[['parameters', 'mean_validation_score']])\n",
    "\n",
    "#when creating dummies, we can only use dummies present in the training set\n",
    "#normalize train and test columns - discard from test attributes not in train\n",
    "#add to test columns not present but existing in train\n",
    "#IMPORTANT: reorder to match the training data column\n",
    "def normalizeTrainTest(trainData, testData):\n",
    "    trainCol = trainData.columns\n",
    "    testCol = testData.columns\n",
    "    \n",
    "    for val in testCol:\n",
    "        if val not in trainCol:\n",
    "            testData.drop(val,axis=1,inplace=True)\n",
    "            print(val)\n",
    "        \n",
    "    for val in trainCol:\n",
    "        if val not in testCol:\n",
    "            testData[val] = 0\n",
    "            print(val)\n",
    "    \n",
    "    testData = testData[trainData.columns]\n",
    "    return testData\n",
    "\n",
    "import itertools\n",
    "\n",
    "# from http://scikit-learn.org/stable/auto_examples/model_selection/plot_confusion_matrix.html\n",
    "def plot_confusion_matrix(cm, classes,\n",
    "                          normalize=False,\n",
    "                          title='Confusion matrix',\n",
    "                          cmap=plt.cm.Blues):\n",
    "    \"\"\"\n",
    "    This function prints and plots the confusion matrix.\n",
    "    Normalization can be applied by setting `normalize=True`.\n",
    "    \"\"\"\n",
    "    if normalize:\n",
    "        cm = cm.astype('float') / cm.sum(axis=1)[:, np.newaxis]\n",
    "        print(\"Normalized confusion matrix\")\n",
    "    else:\n",
    "        print('Confusion matrix, without normalization')\n",
    "\n",
    "    print(cm)\n",
    "\n",
    "    plt.imshow(cm, interpolation='nearest', cmap=cmap)\n",
    "    plt.title(title)\n",
    "    plt.colorbar()\n",
    "    tick_marks = np.arange(len(classes))\n",
    "    plt.xticks(tick_marks, classes, rotation=45)\n",
    "    plt.yticks(tick_marks, classes)\n",
    "\n",
    "    fmt = '.2f' if normalize else 'd'\n",
    "    thresh = cm.max() / 2.\n",
    "    for i, j in itertools.product(range(cm.shape[0]), range(cm.shape[1])):\n",
    "        plt.text(j, i, format(cm[i, j], fmt),\n",
    "                 horizontalalignment=\"center\",\n",
    "                 color=\"white\" if cm[i, j] > thresh else \"black\")\n",
    "\n",
    "    plt.tight_layout()\n",
    "    plt.ylabel('True label')\n",
    "    plt.xlabel('Predicted label')"
   ]
  },
  {
   "cell_type": "markdown",
   "metadata": {},
   "source": [
    "Defining helper functions for use throughout the project"
   ]
  },
  {
   "cell_type": "code",
   "execution_count": 7,
   "metadata": {},
   "outputs": [],
   "source": [
    "#Read in data\n",
    "data = pd.read_csv('GlucoseDataFlat_updated.txt',sep='\\t',encoding='cp1252')\n",
    "#artifacts of loading: delete\n",
    "data.drop(data.columns[64:],axis=1,inplace=True)"
   ]
  },
  {
   "cell_type": "markdown",
   "metadata": {},
   "source": [
    "Read in data"
   ]
  },
  {
   "cell_type": "code",
   "execution_count": 4,
   "metadata": {
    "collapsed": true
   },
   "outputs": [],
   "source": [
    "#target variable is 'Peak glucose value'\n",
    "#want to predict when this is past a threshold\n",
    "#is upper bounded at 600, anything higher is labeled with string \">600\"\n",
    "data.loc[data['Peak glucose value'] == \">600\",'Peak glucose value'] = 600\n",
    "data['Peak glucose value'] = data['Peak glucose value'].astype(int)\n",
    "#creating ternary variable for classification\n",
    "#0 - no incident, 1 - hyperglycemic incident, 2 - severe hyperglycemic incident\n",
    "data['HyperglycemicIncident'] = 0\n",
    "data.loc[data['Peak glucose value'] > 180,'HyperglycemicIncident'] = 2\n",
    "data.loc[(data['Peak glucose value'] > 140) & (data['Peak glucose value'] <= 180),'HyperglycemicIncident'] = 1\n",
    "\n",
    "#force all date variables into date time format\n",
    "for dateCol in ['DOS','AnesStart','InRoom','Induction','AnesReady','ProcStart','ProcEnd','Emergence','LeaveOR']:\n",
    "    data[dateCol] = pd.to_datetime(data[dateCol])"
   ]
  },
  {
   "cell_type": "markdown",
   "metadata": {},
   "source": [
    "Clean data"
   ]
  },
  {
   "cell_type": "code",
   "execution_count": 5,
   "metadata": {},
   "outputs": [
    {
     "data": {
      "text/plain": [
       "HyperglycemicIncident\n",
       "0    3021\n",
       "1    1992\n",
       "2    1800\n",
       "Name: HyperglycemicIncident, dtype: int64"
      ]
     },
     "execution_count": 5,
     "metadata": {},
     "output_type": "execute_result"
    }
   ],
   "source": [
    "#check distribution of each output class\n",
    "data.groupby('HyperglycemicIncident')['HyperglycemicIncident'].count()"
   ]
  },
  {
   "cell_type": "markdown",
   "metadata": {},
   "source": [
    "Distribution of output classes could lead to problems if gap is overwhelmingly large, but this seems okay. Also puts our baseline accuracy at 44.3% - predicting all 0 gives 44.3% accuracy."
   ]
  },
  {
   "cell_type": "code",
   "execution_count": 9,
   "metadata": {},
   "outputs": [],
   "source": [
    "#Preprocessing\n",
    "#weight and height are in two columns: ORCA and AIMS\n",
    "#Orca is preferable and more accurate, will use AIMS when this is missing\n",
    "#ORCA is in metric (height in cm, weight in KG)\n",
    "#AIMS is in imperial\n",
    "\n",
    "data['Weight'] = data.WeightORCA\n",
    "data['Height'] = data.HeightORCA\n",
    "\n",
    "data.loc[pd.isnull(data.Height),'Height'] = data[pd.isnull(data.Height)].HeightAIMS / 2.5\n",
    "data.loc[pd.isnull(data.Weight),'Weight'] = data[pd.isnull(data.Weight)].WeightAIMS * 2.203\n",
    "\n",
    "#DM type = diabetes mellitus type: can be 0 or null if no diabetes, or 1 or two for type of diabetes\n",
    "data['DM type'].fillna(0,inplace=True)\n",
    "\n",
    "#zero height values -> infinite BMI, causes issues\n",
    "#If we use median value inference on the BMI, we impute median BMI for samples with weights of 600+ lbs\n",
    "#infer height instead, calculate BMI from that\n",
    "data.loc[data.Height == 0, 'Height'] = np.median(data.loc[data.Height != 0, 'Height'])\n",
    "\n",
    "data['BMI'] = data.Weight / np.square(data.Height/100)\n",
    "\n",
    "#HbA1C is glycated haemoglobin levels. Higher is worse, particularly for diabetics\n",
    "#string values for less than 4, floats outside of that\n",
    "#will represent as dummies, but there are nulls in the set as well\n",
    "#median impute the nulls, round to nearest 0.5 so we can use dummies\n",
    "HbA1C_imputation = np.median(data.loc[~pd.isnull(data['HbA1C (Last one within 6 mo)'])&(data['HbA1C (Last one within 6 mo)'] != '<4.0'), 'HbA1C (Last one within 6 mo)'].astype(float))\n",
    "data.loc[pd.isnull(data['HbA1C (Last one within 6 mo)']),'HbA1C (Last one within 6 mo)'] = HbA1C_imputation\n",
    "data.loc[~pd.isnull(data['HbA1C (Last one within 6 mo)'])&(data['HbA1C (Last one within 6 mo)'] != '<4.0'), 'HbA1C (Last one within 6 mo)'] = data.loc[~pd.isnull(data['HbA1C (Last one within 6 mo)'])&(data['HbA1C (Last one within 6 mo)'] != '<4.0'), 'HbA1C (Last one within 6 mo)'].apply(roundToHalf)\n",
    "\n",
    "#fill text descriptions with empty strings\n",
    "data.PreOperativeProblemList.fillna('',inplace=True)\n",
    "data.ProcedureDescription.fillna('',inplace=True)\n",
    "\n",
    "#we can use preoperative glucose levels in prediction\n",
    "#there are nearly 700 null observations\n",
    "## to impute preop glucose value - use regression, can only use training data for imputing\n",
    "## will use demographic set once it's formed\n",
    "len(data[pd.isnull(data['Last Preoperative Glucose Value '])])\n",
    "\n",
    "#70-30 train test split\n",
    "train, test = sklearn.model_selection.train_test_split(data,test_size=0.3)\n",
    "\n"
   ]
  },
  {
   "cell_type": "markdown",
   "metadata": {},
   "source": [
    "General Preprocessing"
   ]
  },
  {
   "cell_type": "code",
   "execution_count": 7,
   "metadata": {
    "collapsed": true
   },
   "outputs": [],
   "source": [
    "#outline of which attributes fall into each category\n",
    "Demographics = ['BMI','Gender','Age','Height','Weight','HbA1C (Last one within 6 mo)']\n",
    "Hospital = ['Anesthesiologist1','Surgeon','CRNA1','Resident1']\n",
    "Operation = ['PreOperativeProblemList', 'ProcedureDescription','AppointmentTypeText']"
   ]
  },
  {
   "cell_type": "markdown",
   "metadata": {},
   "source": [
    "Attribute class definitions"
   ]
  },
  {
   "cell_type": "markdown",
   "metadata": {},
   "source": [
    "# Classifiers based on individual attribute sets"
   ]
  },
  {
   "cell_type": "code",
   "execution_count": 8,
   "metadata": {
    "collapsed": true
   },
   "outputs": [],
   "source": [
    "#Demographics focused processing - get dummies for string variables, concat with numeric attributes\n",
    "train_demo = pd.concat([pd.get_dummies(train['DM type'],prefix='DM_'),pd.get_dummies(train['HbA1C (Last one within 6 mo)'],prefix='HbA1C'),pd.get_dummies(train.Gender,prefix='Gender_'), train[['BMI','Age']]],axis=1)\n",
    "\n",
    "#Imputing preop glucose measurement\n",
    "#for the ~700 missing measurements, we will impute using existing demographic variables\n",
    "\n",
    "ImputeRegression = LinearRegression(fit_intercept=True)\n",
    "ImputeRegression.fit(train_demo.loc[~pd.isnull(train['Last Preoperative Glucose Value '])],train.loc[~pd.isnull(train['Last Preoperative Glucose Value ']), 'Last Preoperative Glucose Value '])\n",
    "\n",
    "train_demo['LastPreopGlucose'] = train['Last Preoperative Glucose Value ']\n",
    "train_demo.loc[pd.isnull(train_demo['LastPreopGlucose']), 'LastPreopGlucose'] = np.rint(ImputeRegression.predict(train_demo.loc[pd.isnull(train_demo['LastPreopGlucose']), train_demo.columns != 'LastPreopGlucose']))\n",
    "\n",
    "#Tried median imputation as well - observe worse values, however\n",
    "#train_demo.loc[pd.isnull(train_demo['LastPreopGlucose']), 'LastPreopGlucose'] = np.median(train.loc[~pd.isnull(train['Last Preoperative Glucose Value ']), 'Last Preoperative Glucose Value '])"
   ]
  },
  {
   "cell_type": "markdown",
   "metadata": {},
   "source": [
    "Can impute values in a few ways - median or regression based. Median based inputation doesn't make sense here, as we would be providing false information to the model (median glucose value for somebody who weighs 600 lbs, for example)"
   ]
  },
  {
   "cell_type": "code",
   "execution_count": 9,
   "metadata": {},
   "outputs": [
    {
     "data": {
      "image/png": "[encoded data removed]",
      "text/plain": [
       "<matplotlib.figure.Figure at 0x19b37715a20>"
      ]
     },
     "metadata": {},
     "output_type": "display_data"
    }
   ],
   "source": [
    "%matplotlib inline\n",
    "\n",
    "f, (ax1, ax2) = plt.subplots(1, 2, sharey=True)\n",
    "\n",
    "#view all imputed values next to actual distribution as a sanity check\n",
    "ax1.set_title('Non-Null Values')\n",
    "ax1.hist(train_demo.loc[~pd.isnull(train['Last Preoperative Glucose Value ']), 'LastPreopGlucose'])\n",
    "\n",
    "ax2.set_title('Imputed Values')\n",
    "ax2.hist(train_demo.loc[pd.isnull(train['Last Preoperative Glucose Value ']), 'LastPreopGlucose'])\n",
    "\n",
    "plt.show()"
   ]
  },
  {
   "cell_type": "markdown",
   "metadata": {},
   "source": [
    "Visualize imputed values versus real values"
   ]
  },
  {
   "cell_type": "code",
   "execution_count": 10,
   "metadata": {},
   "outputs": [
    {
     "name": "stdout",
     "output_type": "stream",
     "text": [
      "DM__0.0             4769\n",
      "DM__1.0             4769\n",
      "DM__2.0             4769\n",
      "HbA1C_4.0           4769\n",
      "HbA1C_4.5           4769\n",
      "HbA1C_5.0           4769\n",
      "HbA1C_5.5           4769\n",
      "HbA1C_6.0           4769\n",
      "HbA1C_6.5           4769\n",
      "HbA1C_7.0           4769\n",
      "HbA1C_7.5           4769\n",
      "HbA1C_8.0           4769\n",
      "HbA1C_8.5           4769\n",
      "HbA1C_9.0           4769\n",
      "HbA1C_9.5           4769\n",
      "HbA1C_10.0          4769\n",
      "HbA1C_10.5          4769\n",
      "HbA1C_11.0          4769\n",
      "HbA1C_11.5          4769\n",
      "HbA1C_12.0          4769\n",
      "HbA1C_12.5          4769\n",
      "HbA1C_13.0          4769\n",
      "HbA1C_14.0          4769\n",
      "HbA1C_<4.0          4769\n",
      "Gender__F           4769\n",
      "Gender__M           4769\n",
      "Gender__U           4769\n",
      "BMI                 4769\n",
      "Age                 4769\n",
      "LastPreopGlucose    4769\n",
      "dtype: int64\n",
      "   DM__0.0  DM__1.0  DM__2.0  HbA1C_4.0  HbA1C_4.5  HbA1C_5.0  HbA1C_5.5  \\\n",
      "0      1.0      1.0      1.0        1.0        1.0        1.0        1.0   \n",
      "\n",
      "   HbA1C_6.0  HbA1C_6.5  HbA1C_7.0        ...         HbA1C_12.5  HbA1C_13.0  \\\n",
      "0        1.0        1.0        1.0        ...                1.0         1.0   \n",
      "\n",
      "   HbA1C_14.0  HbA1C_<4.0  Gender__F  Gender__M  Gender__U         BMI   Age  \\\n",
      "0         1.0         1.0        1.0        1.0        1.0  9082.80703  96.0   \n",
      "\n",
      "   LastPreopGlucose  \n",
      "0             480.0  \n",
      "\n",
      "[1 rows x 30 columns]\n"
     ]
    }
   ],
   "source": [
    "#see if any columns have nulls\n",
    "print(train_demo.count())\n",
    "#see if any columns have infinity\n",
    "print(train_demo.max().to_frame().T)"
   ]
  },
  {
   "cell_type": "markdown",
   "metadata": {},
   "source": [
    "Ensure data is clean for training."
   ]
  },
  {
   "cell_type": "code",
   "execution_count": 11,
   "metadata": {},
   "outputs": [
    {
     "name": "stderr",
     "output_type": "stream",
     "text": [
      "C:\\Users\\nivelaga\\AppData\\Local\\Continuum\\anaconda3\\lib\\site-packages\\sklearn\\naive_bayes.py:472: UserWarning: alpha too small will result in numeric errors, setting alpha = 1.0e-10\n",
      "  'setting alpha = %.1e' % _ALPHA_MIN)\n",
      "C:\\Users\\nivelaga\\AppData\\Local\\Continuum\\anaconda3\\lib\\site-packages\\sklearn\\naive_bayes.py:472: UserWarning: alpha too small will result in numeric errors, setting alpha = 1.0e-10\n",
      "  'setting alpha = %.1e' % _ALPHA_MIN)\n",
      "C:\\Users\\nivelaga\\AppData\\Local\\Continuum\\anaconda3\\lib\\site-packages\\sklearn\\naive_bayes.py:472: UserWarning: alpha too small will result in numeric errors, setting alpha = 1.0e-10\n",
      "  'setting alpha = %.1e' % _ALPHA_MIN)\n"
     ]
    }
   ],
   "source": [
    "#Hyperparameter sweep for K-Nearest Neighbors, Bernoulli NB, Logistic Regression, Random Forests\n",
    "KNNHyper_demo = HyperParameters(KNeighborsClassifier(), {'n_neighbors': [1, 5, 10, 20, 30, 40, 50, 75, 100, 125, 150, 175]}, train_demo, train.HyperglycemicIncident)\n",
    "BNBHyper_demo = HyperParameters(BernoulliNB(),{'alpha': [0.0, 0.0001, 0.001, 0.01, 0.1, 0.5, 1.0, 2.0, 10.0]}, train_demo, train.HyperglycemicIncident)\n",
    "LRHyper_demo = HyperParameters(LogisticRegression(penalty='l2'),{'C': np.arange(1,15)}, train_demo, train.HyperglycemicIncident)\n",
    "RFHyper_demo = HyperParameters(RandomForestClassifier(),{'n_estimators': np.arange(1,15),'max_features': np.arange(1,15),'max_depth': np.arange(1,15)}, train_demo, train.HyperglycemicIncident)"
   ]
  },
  {
   "cell_type": "code",
   "execution_count": 12,
   "metadata": {},
   "outputs": [
    {
     "name": "stdout",
     "output_type": "stream",
     "text": [
      "Best KNN: \n",
      "              parameters  mean_validation_score\n",
      "11  {'n_neighbors': 175}               0.534494\n",
      "Best BNB: \n",
      "       parameters  mean_validation_score\n",
      "7  {'alpha': 2.0}                0.49633\n",
      "Best LR: \n",
      "   parameters  mean_validation_score\n",
      "4    {'C': 5}                0.54393\n",
      "13  {'C': 14}                0.54393\n",
      "Best RF: \n",
      "                                            parameters  mean_validation_score\n",
      "777  {'max_depth': 4, 'max_features': 14, 'n_estima...               0.560495\n"
     ]
    },
    {
     "data": {
      "text/plain": [
       "[{'max_depth': 4, 'max_features': 14, 'n_estimators': 8}]"
      ]
     },
     "execution_count": 12,
     "metadata": {},
     "output_type": "execute_result"
    }
   ],
   "source": [
    "#show best performing parameters\n",
    "print(\"Best KNN: \")\n",
    "print(KNNHyper_demo[KNNHyper_demo.mean_validation_score == np.max(KNNHyper_demo.mean_validation_score)])\n",
    "\n",
    "print(\"Best BNB: \")\n",
    "print(BNBHyper_demo[BNBHyper_demo.mean_validation_score == np.max(BNBHyper_demo.mean_validation_score)])\n",
    "\n",
    "print(\"Best LR: \")\n",
    "print(LRHyper_demo[LRHyper_demo.mean_validation_score == np.max(LRHyper_demo.mean_validation_score)])\n",
    "\n",
    "print(\"Best RF: \")\n",
    "print(RFHyper_demo[RFHyper_demo.mean_validation_score == np.max(RFHyper_demo.mean_validation_score)])\n",
    "list(RFHyper_demo[RFHyper_demo.mean_validation_score == np.max(RFHyper_demo.mean_validation_score)].parameters)"
   ]
  },
  {
   "cell_type": "markdown",
   "metadata": {},
   "source": [
    "Parameter sweeps show the best parameterizations using cross validation within training set"
   ]
  },
  {
   "cell_type": "code",
   "execution_count": 13,
   "metadata": {},
   "outputs": [
    {
     "name": "stdout",
     "output_type": "stream",
     "text": [
      "HbA1C_13.5\n",
      "Gender__U\n"
     ]
    },
    {
     "data": {
      "text/plain": [
       "RandomForestClassifier(bootstrap=True, class_weight=None, criterion='gini',\n",
       "            max_depth=6, max_features=10, max_leaf_nodes=None,\n",
       "            min_impurity_decrease=0.0, min_impurity_split=None,\n",
       "            min_samples_leaf=1, min_samples_split=2,\n",
       "            min_weight_fraction_leaf=0.0, n_estimators=11, n_jobs=1,\n",
       "            oob_score=False, random_state=None, verbose=0,\n",
       "            warm_start=False)"
      ]
     },
     "execution_count": 13,
     "metadata": {},
     "output_type": "execute_result"
    }
   ],
   "source": [
    "#best models\n",
    "KNN_demo = KNeighborsClassifier(n_neighbors = 175)\n",
    "BNB_demo = BernoulliNB(alpha = 2)\n",
    "LRHyper_demo = LogisticRegression(C = 6)\n",
    "RFHyper_demo = RandomForestClassifier(max_depth=6,max_features=10,n_estimators=11)\n",
    "\n",
    "#test data processing\n",
    "#Hospital focused processing\n",
    "\n",
    "#Used for regression imputing last preoperative glucose values, but facing some issues with those values\n",
    "test_demo = pd.concat([pd.get_dummies(test['DM type'],prefix='DM_'),pd.get_dummies(test['HbA1C (Last one within 6 mo)'],prefix='HbA1C'),pd.get_dummies(test.Gender,prefix='Gender_'), test[['BMI','Age']]],axis=1)\n",
    "test_demo['LastPreopGlucose'] = test['Last Preoperative Glucose Value ']\n",
    "\n",
    "#instead using mean value imputation\n",
    "test_demo = normalizeTrainTest(train_demo, test_demo)\n",
    "test_demo.loc[pd.isnull(test_demo['LastPreopGlucose']), 'LastPreopGlucose'] = np.rint(ImputeRegression.predict(test_demo.loc[pd.isnull(test_demo['LastPreopGlucose']), test_demo.columns != 'LastPreopGlucose']))\n",
    "#test_demo.loc[pd.isnull(test_demo['LastPreopGlucose']), 'LastPreopGlucose'] = np.median(train.loc[~pd.isnull(train['Last Preoperative Glucose Value ']), 'Last Preoperative Glucose Value '])\n",
    "\n",
    "KNN_demo.fit(train_demo, train.HyperglycemicIncident)\n",
    "BNB_demo.fit(train_demo, train.HyperglycemicIncident)\n",
    "LRHyper_demo.fit(train_demo, train.HyperglycemicIncident)\n",
    "RFHyper_demo.fit(train_demo, train.HyperglycemicIncident)"
   ]
  },
  {
   "cell_type": "code",
   "execution_count": 14,
   "metadata": {},
   "outputs": [
    {
     "name": "stdout",
     "output_type": "stream",
     "text": [
      "KNN:  0.5489\n",
      "BNB:  0.4907\n",
      "LR:  0.5475\n",
      "RF:  0.5548\n"
     ]
    }
   ],
   "source": [
    "#accuracies of each of the optimally parameterized models\n",
    "print(\"KNN: \", str(round(accuracy_score(test.HyperglycemicIncident, KNN_demo.predict(test_demo)),4)))\n",
    "print(\"BNB: \", str(round(accuracy_score(test.HyperglycemicIncident, BNB_demo.predict(test_demo)),4)))\n",
    "print(\"LR: \", str(round(accuracy_score(test.HyperglycemicIncident, LRHyper_demo.predict(test_demo)),4)))\n",
    "print(\"RF: \", str(round(accuracy_score(test.HyperglycemicIncident, RFHyper_demo.predict(test_demo)),4)))"
   ]
  },
  {
   "cell_type": "markdown",
   "metadata": {},
   "source": [
    "demographic accuracies are in the low 50% range. "
   ]
  },
  {
   "cell_type": "code",
   "execution_count": 15,
   "metadata": {},
   "outputs": [
    {
     "data": {
      "text/plain": [
       "array([[755,  69,  78],\n",
       "       [339, 135, 127],\n",
       "       [207,  90, 244]], dtype=int64)"
      ]
     },
     "execution_count": 15,
     "metadata": {},
     "output_type": "execute_result"
    }
   ],
   "source": [
    "#View confusion matrix for best performing model to ensure reasonable prediction distribution\n",
    "confusion_matrix(test.HyperglycemicIncident, RFHyper_demo.predict(test_demo))"
   ]
  },
  {
   "cell_type": "markdown",
   "metadata": {},
   "source": [
    "View confusion matrix of predictions to ensure we don't have an overwhelming bias."
   ]
  },
  {
   "cell_type": "code",
   "execution_count": 16,
   "metadata": {
    "collapsed": true
   },
   "outputs": [],
   "source": [
    "#Second category of attributes: hospital focused processing\n",
    "train_Hospital = pd.concat([pd.get_dummies(train.Anesthesiologist1,prefix='Anesth_'),pd.get_dummies(train.Surgeon,prefix='Surgeon_'),pd.get_dummies(train.CRNA1,prefix='CRNA_'),pd.get_dummies(train.Resident1,prefix='Resident_')],axis=1)\n"
   ]
  },
  {
   "cell_type": "markdown",
   "metadata": {},
   "source": [
    "Repeat above process for hospital related data."
   ]
  },
  {
   "cell_type": "code",
   "execution_count": 17,
   "metadata": {},
   "outputs": [
    {
     "name": "stderr",
     "output_type": "stream",
     "text": [
      "C:\\Users\\nivelaga\\AppData\\Local\\Continuum\\anaconda3\\lib\\site-packages\\sklearn\\naive_bayes.py:472: UserWarning: alpha too small will result in numeric errors, setting alpha = 1.0e-10\n",
      "  'setting alpha = %.1e' % _ALPHA_MIN)\n",
      "C:\\Users\\nivelaga\\AppData\\Local\\Continuum\\anaconda3\\lib\\site-packages\\sklearn\\naive_bayes.py:472: UserWarning: alpha too small will result in numeric errors, setting alpha = 1.0e-10\n",
      "  'setting alpha = %.1e' % _ALPHA_MIN)\n",
      "C:\\Users\\nivelaga\\AppData\\Local\\Continuum\\anaconda3\\lib\\site-packages\\sklearn\\naive_bayes.py:472: UserWarning: alpha too small will result in numeric errors, setting alpha = 1.0e-10\n",
      "  'setting alpha = %.1e' % _ALPHA_MIN)\n"
     ]
    }
   ],
   "source": [
    "KNNHyper_hosp = HyperParameters(KNeighborsClassifier(), {'n_neighbors': [1, 5, 10, 20, 30, 40, 50, 75, 100, 125, 150, 175]}, train_Hospital, train.HyperglycemicIncident)\n",
    "BNBHyper_hosp = HyperParameters(BernoulliNB(),{'alpha': [0.0, 0.0001, 0.001, 0.01, 0.1, 0.5, 1.0, 2.0, 10.0]}, train_Hospital, train.HyperglycemicIncident)\n",
    "LRHyper_hosp = HyperParameters(LogisticRegression(penalty='l2'),{'C': np.arange(1,15)}, train_Hospital, train.HyperglycemicIncident)\n",
    "RFHyper_hosp = HyperParameters(RandomForestClassifier(),{'n_estimators': np.arange(1,15),'max_features': np.arange(1,15),'max_depth': np.arange(1,15)}, train_Hospital, train.HyperglycemicIncident)"
   ]
  },
  {
   "cell_type": "code",
   "execution_count": 18,
   "metadata": {},
   "outputs": [
    {
     "name": "stdout",
     "output_type": "stream",
     "text": [
      "Best KNN: \n",
      "              parameters  mean_validation_score\n",
      "10  {'n_neighbors': 150}               0.505976\n",
      "Best BNB: \n",
      "        parameters  mean_validation_score\n",
      "8  {'alpha': 10.0}               0.499056\n",
      "Best LR: \n",
      "  parameters  mean_validation_score\n",
      "0   {'C': 1}               0.472636\n",
      "Best RF: \n",
      "                                             parameters  mean_validation_score\n",
      "2711  {'max_depth': 14, 'max_features': 12, 'n_estim...               0.490459\n"
     ]
    },
    {
     "data": {
      "text/plain": [
       "[{'max_depth': 14, 'max_features': 12, 'n_estimators': 10}]"
      ]
     },
     "execution_count": 18,
     "metadata": {},
     "output_type": "execute_result"
    }
   ],
   "source": [
    "print(\"Best KNN: \")\n",
    "print(KNNHyper_hosp[KNNHyper_hosp.mean_validation_score == np.max(KNNHyper_hosp.mean_validation_score)])\n",
    "\n",
    "print(\"Best BNB: \")\n",
    "print(BNBHyper_hosp[BNBHyper_hosp.mean_validation_score == np.max(BNBHyper_hosp.mean_validation_score)])\n",
    "\n",
    "print(\"Best LR: \")\n",
    "print(LRHyper_hosp[LRHyper_hosp.mean_validation_score == np.max(LRHyper_hosp.mean_validation_score)])\n",
    "\n",
    "print(\"Best RF: \")\n",
    "print(RFHyper_hosp[RFHyper_hosp.mean_validation_score == np.max(RFHyper_hosp.mean_validation_score)])\n",
    "list(RFHyper_hosp[RFHyper_hosp.mean_validation_score == np.max(RFHyper_hosp.mean_validation_score)].parameters)"
   ]
  },
  {
   "cell_type": "code",
   "execution_count": 19,
   "metadata": {},
   "outputs": [
    {
     "name": "stdout",
     "output_type": "stream",
     "text": [
      "Anesth__506900\n",
      "Surgeon__7311.0\n",
      "Surgeon__9432.0\n",
      "Surgeon__352870.0\n",
      "Surgeon__370330.0\n",
      "Surgeon__389360.0\n",
      "Surgeon__468511.0\n",
      "CRNA__414260.0\n",
      "CRNA__503295.0\n",
      "CRNA__509157.0\n",
      "Anesth__7298\n",
      "Anesth__292070\n",
      "Anesth__510903\n",
      "Surgeon__1735.0\n",
      "Surgeon__2322.0\n",
      "Surgeon__5228.0\n",
      "Surgeon__5621.0\n",
      "Surgeon__7001.0\n",
      "Surgeon__8207.0\n",
      "Surgeon__8941.0\n",
      "Surgeon__222540.0\n",
      "Surgeon__234010.0\n",
      "Surgeon__237160.0\n",
      "Surgeon__253310.0\n",
      "Surgeon__296150.0\n",
      "Surgeon__308930.0\n",
      "Surgeon__318710.0\n",
      "Surgeon__332890.0\n",
      "Surgeon__333210.0\n",
      "Surgeon__357370.0\n",
      "Surgeon__379170.0\n",
      "Surgeon__395200.0\n",
      "Surgeon__397910.0\n",
      "Surgeon__403410.0\n",
      "Surgeon__408730.0\n",
      "Surgeon__460205.0\n",
      "Surgeon__468184.0\n",
      "Surgeon__501091.0\n",
      "Surgeon__502676.0\n",
      "Surgeon__505882.0\n",
      "Surgeon__506078.0\n",
      "Surgeon__507845.0\n",
      "Surgeon__510010.0\n",
      "Surgeon__510350.0\n",
      "CRNA__509158.0\n",
      "Resident__501068.0\n",
      "Resident__502213.0\n",
      "Resident__509530.0\n",
      "Resident__511854.0\n",
      "Resident__512425.0\n"
     ]
    }
   ],
   "source": [
    "#best models\n",
    "KNN_hosp = KNeighborsClassifier(n_neighbors = 150)\n",
    "BNB_hosp = BernoulliNB(alpha = 10)\n",
    "LR_hosp = LogisticRegression(C = 1)\n",
    "RF_hosp = RandomForestClassifier(max_depth=13,max_features=14,n_estimators=14)\n",
    "\n",
    "#test data processing\n",
    "#Hospital focused processing\n",
    "test_Hospital = pd.concat([pd.get_dummies(test.Anesthesiologist1,prefix='Anesth_'),pd.get_dummies(test.Surgeon,prefix='Surgeon_'),pd.get_dummies(test.CRNA1,prefix='CRNA_'),pd.get_dummies(test.Resident1,prefix='Resident_')],axis=1)\n",
    "\n",
    "KNN_hosp.fit(train_Hospital, train.HyperglycemicIncident)\n",
    "BNB_hosp.fit(train_Hospital, train.HyperglycemicIncident)\n",
    "LR_hosp.fit(train_Hospital, train.HyperglycemicIncident)\n",
    "RF_hosp.fit(train_Hospital, train.HyperglycemicIncident)\n",
    "\n",
    "test_Hospital = normalizeTrainTest(train_Hospital, test_Hospital)"
   ]
  },
  {
   "cell_type": "code",
   "execution_count": 20,
   "metadata": {},
   "outputs": [
    {
     "name": "stdout",
     "output_type": "stream",
     "text": [
      "KNN:  0.4995\n",
      "BNB:  0.5024\n",
      "LR:  0.4809\n",
      "RF:  0.4819\n"
     ]
    }
   ],
   "source": [
    "#accuracies of each of the optimally parameterized models\n",
    "print(\"KNN: \", str(round(accuracy_score(test.HyperglycemicIncident, KNN_hosp.predict(test_Hospital)),4)))\n",
    "print(\"BNB: \", str(round(accuracy_score(test.HyperglycemicIncident, BNB_hosp.predict(test_Hospital)),4)))\n",
    "print(\"LR: \", str(round(accuracy_score(test.HyperglycemicIncident, LR_hosp.predict(test_Hospital)),4)))\n",
    "print(\"RF: \", str(round(accuracy_score(test.HyperglycemicIncident, RF_hosp.predict(test_Hospital)),4)))"
   ]
  },
  {
   "cell_type": "code",
   "execution_count": 21,
   "metadata": {},
   "outputs": [
    {
     "data": {
      "text/plain": [
       "array([[842,   6,  54],\n",
       "       [485,  11, 105],\n",
       "       [360,   7, 174]], dtype=int64)"
      ]
     },
     "execution_count": 21,
     "metadata": {},
     "output_type": "execute_result"
    }
   ],
   "source": [
    "#confusion matrix of best performing model\n",
    "confusion_matrix(test.HyperglycemicIncident, BNB_hosp.predict(test_Hospital))"
   ]
  },
  {
   "cell_type": "markdown",
   "metadata": {},
   "source": [
    "We observe worse results for hospital data than patient demographics."
   ]
  },
  {
   "cell_type": "code",
   "execution_count": 22,
   "metadata": {
    "collapsed": true
   },
   "outputs": [],
   "source": [
    "#Operations focused processing\n",
    "\n",
    "#ngram_range to explore bigram & trigram possibilities?\n",
    "#CV_preop = CountVectorizer(stop_words='english')\n",
    "#train_CV_preop = CV_preop.fit_transform(train.PreOperativeProblemList)\n",
    "\n",
    "#found TFIDF to vectorizer more effectively\n",
    "tfidf_preop = TfidfVectorizer()\n",
    "train_tfidfV_preop = tfidf_preop.fit_transform(train.PreOperativeProblemList)\n",
    "\n",
    "#CV_proc = CountVectorizer(stop_words='english')\n",
    "#train_CV_proc = CV_proc.fit_transform(train.ProcedureDescription)\n",
    "tfidf_proc = TfidfVectorizer()\n",
    "train_tfidf_proc = tfidf_proc.fit_transform(train.ProcedureDescription)\n",
    "\n",
    "train_tfidf_op = sp.sparse.hstack([train_tfidf_proc, train_tfidfV_preop])\n",
    "#train_cv_op = sp.sparse.hstack([train_CV_proc, train_CV_preop])"
   ]
  },
  {
   "cell_type": "code",
   "execution_count": 23,
   "metadata": {},
   "outputs": [
    {
     "name": "stdout",
     "output_type": "stream",
     "text": [
      "Term count:\n",
      "6194\n",
      "total elements, non null elements:\n",
      "29539186, 93789\n"
     ]
    }
   ],
   "source": [
    "print('Term count:')\n",
    "print(train_tfidf_op.shape[1])\n",
    "\n",
    "print('total elements, non null elements:')\n",
    "print(str(train_tfidf_op.shape[0]*train_tfidf_op.shape[1]) + ', ' + str(train_tfidf_op.nnz))"
   ]
  },
  {
   "cell_type": "markdown",
   "metadata": {},
   "source": [
    "Using TF-IDF to transform preop and procedure notes, we have 6081 terms and a matrix density of about .0031. Very sparse."
   ]
  },
  {
   "cell_type": "code",
   "execution_count": 24,
   "metadata": {},
   "outputs": [
    {
     "name": "stderr",
     "output_type": "stream",
     "text": [
      "C:\\Users\\nivelaga\\AppData\\Local\\Continuum\\anaconda3\\lib\\site-packages\\sklearn\\naive_bayes.py:472: UserWarning: alpha too small will result in numeric errors, setting alpha = 1.0e-10\n",
      "  'setting alpha = %.1e' % _ALPHA_MIN)\n",
      "C:\\Users\\nivelaga\\AppData\\Local\\Continuum\\anaconda3\\lib\\site-packages\\sklearn\\naive_bayes.py:472: UserWarning: alpha too small will result in numeric errors, setting alpha = 1.0e-10\n",
      "  'setting alpha = %.1e' % _ALPHA_MIN)\n",
      "C:\\Users\\nivelaga\\AppData\\Local\\Continuum\\anaconda3\\lib\\site-packages\\sklearn\\naive_bayes.py:472: UserWarning: alpha too small will result in numeric errors, setting alpha = 1.0e-10\n",
      "  'setting alpha = %.1e' % _ALPHA_MIN)\n"
     ]
    }
   ],
   "source": [
    "KNNHyper_op = HyperParameters(KNeighborsClassifier(), {'n_neighbors': [1, 5, 10, 20, 30, 40, 50, 75, 100, 125, 150, 175]}, train_tfidf_op, train.HyperglycemicIncident)\n",
    "BNBHyper_op = HyperParameters(BernoulliNB(),{'alpha': [0.0, 0.0001, 0.001, 0.01, 0.1, 0.5, 1.0, 2.0, 10.0]}, train_tfidf_op, train.HyperglycemicIncident)\n",
    "LRHyper_op = HyperParameters(LogisticRegression(penalty='l2'),{'C': np.arange(1,15)}, train_tfidf_op, train.HyperglycemicIncident)\n",
    "RFHyper_op = HyperParameters(RandomForestClassifier(),{'n_estimators': np.arange(1,20),'max_features': np.arange(1,15),'max_depth': np.arange(1,20)}, train_tfidf_op, train.HyperglycemicIncident)"
   ]
  },
  {
   "cell_type": "code",
   "execution_count": 25,
   "metadata": {},
   "outputs": [
    {
     "name": "stdout",
     "output_type": "stream",
     "text": [
      "Best KNN: \n",
      "            parameters  mean_validation_score\n",
      "5  {'n_neighbors': 40}               0.498218\n",
      "Best BNB: \n",
      "       parameters  mean_validation_score\n",
      "6  {'alpha': 1.0}               0.505137\n",
      "Best LR: \n",
      "  parameters  mean_validation_score\n",
      "0   {'C': 1}               0.527574\n",
      "Best RF: \n",
      "                                             parameters  mean_validation_score\n",
      "4966  {'max_depth': 19, 'max_features': 10, 'n_estim...               0.473684\n"
     ]
    },
    {
     "data": {
      "text/plain": [
       "[{'max_depth': 19, 'max_features': 10, 'n_estimators': 8}]"
      ]
     },
     "execution_count": 25,
     "metadata": {},
     "output_type": "execute_result"
    }
   ],
   "source": [
    "print(\"Best KNN: \")\n",
    "print(KNNHyper_op[KNNHyper_op.mean_validation_score == np.max(KNNHyper_op.mean_validation_score)])\n",
    "\n",
    "print(\"Best BNB: \")\n",
    "print(BNBHyper_op[BNBHyper_op.mean_validation_score == np.max(BNBHyper_op.mean_validation_score)])\n",
    "\n",
    "print(\"Best LR: \")\n",
    "print(LRHyper_op[LRHyper_op.mean_validation_score == np.max(LRHyper_op.mean_validation_score)])\n",
    "\n",
    "print(\"Best RF: \")\n",
    "print(RFHyper_op[RFHyper_op.mean_validation_score == np.max(RFHyper_op.mean_validation_score)])\n",
    "\n",
    "list(RFHyper_op[RFHyper_op.mean_validation_score == np.max(RFHyper_op.mean_validation_score)].parameters)"
   ]
  },
  {
   "cell_type": "code",
   "execution_count": 26,
   "metadata": {},
   "outputs": [
    {
     "data": {
      "text/plain": [
       "RandomForestClassifier(bootstrap=True, class_weight=None, criterion='gini',\n",
       "            max_depth=18, max_features=13, max_leaf_nodes=None,\n",
       "            min_impurity_decrease=0.0, min_impurity_split=None,\n",
       "            min_samples_leaf=1, min_samples_split=2,\n",
       "            min_weight_fraction_leaf=0.0, n_estimators=11, n_jobs=1,\n",
       "            oob_score=False, random_state=None, verbose=0,\n",
       "            warm_start=False)"
      ]
     },
     "execution_count": 26,
     "metadata": {},
     "output_type": "execute_result"
    }
   ],
   "source": [
    "#best models\n",
    "KNN_op = KNeighborsClassifier(n_neighbors = 75)\n",
    "BNB_op = BernoulliNB(alpha = 1.0)\n",
    "LR_op = LogisticRegression(C = 1)\n",
    "RF_op = RandomForestClassifier(max_depth=18,max_features=13,n_estimators=11)\n",
    "\n",
    "#test data processing\n",
    "test_op = sp.sparse.hstack([tfidf_preop.transform(test.PreOperativeProblemList),tfidf_proc.transform(test.ProcedureDescription)])\n",
    "\n",
    "KNN_op.fit(train_tfidf_op, train.HyperglycemicIncident)\n",
    "BNB_op.fit(train_tfidf_op, train.HyperglycemicIncident)\n",
    "LR_op.fit(train_tfidf_op, train.HyperglycemicIncident)\n",
    "RF_op.fit(train_tfidf_op, train.HyperglycemicIncident)"
   ]
  },
  {
   "cell_type": "code",
   "execution_count": 27,
   "metadata": {},
   "outputs": [
    {
     "name": "stdout",
     "output_type": "stream",
     "text": [
      "KNN:  0.3469\n",
      "BNB:  0.3009\n",
      "LR:  0.4359\n",
      "RF:  0.4418\n"
     ]
    }
   ],
   "source": [
    "#accuracies of each of the optimally parameterized models\n",
    "print(\"KNN: \", str(round(accuracy_score(test.HyperglycemicIncident, KNN_op.predict(test_op)),4)))\n",
    "print(\"BNB: \", str(round(accuracy_score(test.HyperglycemicIncident, BNB_op.predict(test_op)),4)))\n",
    "print(\"LR: \", str(round(accuracy_score(test.HyperglycemicIncident, LR_op.predict(test_op)),4)))\n",
    "print(\"RF: \", str(round(accuracy_score(test.HyperglycemicIncident, RF_op.predict(test_op)),4)))"
   ]
  },
  {
   "cell_type": "code",
   "execution_count": 28,
   "metadata": {},
   "outputs": [
    {
     "data": {
      "text/plain": [
       "array([[902,   0,   0],\n",
       "       [599,   1,   1],\n",
       "       [541,   0,   0]], dtype=int64)"
      ]
     },
     "execution_count": 28,
     "metadata": {},
     "output_type": "execute_result"
    }
   ],
   "source": [
    "#we observe that using tfidf results in essentially all 0 predictions - not enough information is conveyed via text\n",
    "confusion_matrix(test.HyperglycemicIncident, RF_op.predict(test_op))"
   ]
  },
  {
   "cell_type": "markdown",
   "metadata": {},
   "source": [
    "This model doesn't have enough information - TFIDF clearly isn't doing enough to featurize the text."
   ]
  },
  {
   "cell_type": "markdown",
   "metadata": {},
   "source": [
    "## Topic Modelling for Text Data (reduce dimensionality + highlight key attributes)"
   ]
  },
  {
   "cell_type": "markdown",
   "metadata": {},
   "source": [
    "Topic modelling will allow us to reduce the data dimensionality by creating topics within the data. Each text will be represented by it's similarity to each of the given topics."
   ]
  },
  {
   "cell_type": "code",
   "execution_count": 10,
   "metadata": {},
   "outputs": [],
   "source": [
    "#it's possible that the high dimensionality of the text data is reducing effectiveness of classification\n",
    "#thus, we use Topic Modelling to reduce dimensionality\n",
    "#identify 25 \"topics\" in the text\n",
    "#represent each piece of freeform text as similarity to each of the 25 topics\n",
    "#classify on these similarities\n",
    "\n",
    "#credit goes to AnalyticsVidhya: https://www.analyticsvidhya.com/blog/2016/08/beginners-guide-to-topic-modeling-in-python/\n",
    "\n",
    "#import nltk\n",
    "#nltk.download() # - download stopwords\n",
    "\n",
    "from nltk.corpus import stopwords \n",
    "from nltk.stem.wordnet import WordNetLemmatizer\n",
    "import string\n",
    "stop = set(stopwords.words('english'))\n",
    "exclude = set(string.punctuation) \n",
    "lemma = WordNetLemmatizer()\n",
    "\n",
    "def clean(doc):\n",
    "    stop_free = \" \".join([i for i in doc.lower().split() if i not in stop])\n",
    "    punc_free = ''.join(ch for ch in stop_free if ch not in exclude)\n",
    "    normalized = \" \".join(lemma.lemmatize(word) for word in punc_free.split())\n",
    "    return normalized\n",
    "\n",
    "#prepare text and create tfidf vectorizer\n",
    "CleanedText = pd.concat([train.PreOperativeProblemList.apply(clean),train.ProcedureDescription.apply(clean)])\n",
    "CleanedText = CleanedText.str.split()\n",
    "#UnifiedTfIDF = TfidfVectorizer()\n",
    "#$All_TFIDF_fit = UnifiedTfIDF.fit(CleanedText)"
   ]
  },
  {
   "cell_type": "code",
   "execution_count": 15,
   "metadata": {},
   "outputs": [
    {
     "data": {
      "text/plain": [
       "'1.16.1'"
      ]
     },
     "execution_count": 15,
     "metadata": {},
     "output_type": "execute_result"
    }
   ],
   "source": [
    "np.__version__"
   ]
  },
  {
   "cell_type": "code",
   "execution_count": 11,
   "metadata": {},
   "outputs": [],
   "source": [
    "import gensim\n",
    "from gensim import corpora\n",
    "\n",
    "dictionary = corpora.Dictionary(CleanedText)\n",
    "doc_term_matrix = [dictionary.doc2bow(doc) for doc in CleanedText]"
   ]
  },
  {
   "cell_type": "code",
   "execution_count": 16,
   "metadata": {},
   "outputs": [],
   "source": [
    "Lda = gensim.models.ldamodel.LdaModel\n",
    "ldamodel = Lda(doc_term_matrix, num_topics=45, id2word = dictionary, passes=100)"
   ]
  },
  {
   "cell_type": "code",
   "execution_count": 32,
   "metadata": {
    "collapsed": true
   },
   "outputs": [],
   "source": [
    "Scores_preop = []\n",
    "Scores_proc = []\n",
    "    \n",
    "for i in range(0,len(train)):\n",
    "\n",
    "    toTransform_preop = dictionary.doc2bow(clean(train.PreOperativeProblemList.iloc[i]).split())\n",
    "    toTransform_proc = dictionary.doc2bow(clean(train.ProcedureDescription.iloc[i]).split())\n",
    "    \n",
    "    transformation_preop = ldamodel.get_document_topics(toTransform_preop,minimum_probability=0)\n",
    "    Scores_preop.append(np.array(transformation_preop)[:,1])\n",
    "    \n",
    "    transformation_proc = ldamodel.get_document_topics(toTransform_proc,minimum_probability=0)\n",
    "    Scores_proc.append(np.array(transformation_proc)[:,1])\n",
    "\n",
    "\n",
    "LDA_DF_preop_train = pd.DataFrame(Scores_preop, columns = ['LDA_preop_' + str(s) for s in np.arange(0,45)])\n",
    "LDA_DF_proc_train = pd.DataFrame(Scores_proc, columns = ['LDA_proc_' + str(s) for s in np.arange(0,45)])\n",
    "\n",
    "Scores_preop = []\n",
    "Scores_proc = []\n",
    "    \n",
    "for i in range(0,len(test)):\n",
    "\n",
    "    toTransform_preop = dictionary.doc2bow(clean(test.PreOperativeProblemList.iloc[i]).split())\n",
    "    toTransform_proc = dictionary.doc2bow(clean(test.ProcedureDescription.iloc[i]).split())\n",
    "    \n",
    "    transformation_preop = ldamodel.get_document_topics(toTransform_preop,minimum_probability=0)\n",
    "    Scores_preop.append(np.array(transformation_preop)[:,1])\n",
    "    \n",
    "    transformation_proc = ldamodel.get_document_topics(toTransform_proc,minimum_probability=0)\n",
    "    Scores_proc.append(np.array(transformation_proc)[:,1])\n",
    "\n",
    "\n",
    "LDA_DF_preop_test = pd.DataFrame(Scores_preop, columns = ['LDA_preop_' + str(s) for s in np.arange(0,45)])\n",
    "LDA_DF_proc_test = pd.DataFrame(Scores_proc, columns = ['LDA_proc_' + str(s) for s in np.arange(0,45)])"
   ]
  },
  {
   "cell_type": "code",
   "execution_count": 33,
   "metadata": {
    "collapsed": true
   },
   "outputs": [],
   "source": [
    "LDA_train = pd.concat([LDA_DF_preop_train,LDA_DF_proc_train],axis=1)\n",
    "LDA_test = pd.concat([LDA_DF_preop_test,LDA_DF_proc_test],axis=1)"
   ]
  },
  {
   "cell_type": "markdown",
   "metadata": {},
   "source": [
    "Repeat sweep and evaluation steps on the transformed text."
   ]
  },
  {
   "cell_type": "code",
   "execution_count": 34,
   "metadata": {},
   "outputs": [
    {
     "name": "stderr",
     "output_type": "stream",
     "text": [
      "C:\\Users\\nivelaga\\AppData\\Local\\Continuum\\anaconda3\\lib\\site-packages\\sklearn\\naive_bayes.py:472: UserWarning: alpha too small will result in numeric errors, setting alpha = 1.0e-10\n",
      "  'setting alpha = %.1e' % _ALPHA_MIN)\n",
      "C:\\Users\\nivelaga\\AppData\\Local\\Continuum\\anaconda3\\lib\\site-packages\\sklearn\\naive_bayes.py:472: UserWarning: alpha too small will result in numeric errors, setting alpha = 1.0e-10\n",
      "  'setting alpha = %.1e' % _ALPHA_MIN)\n",
      "C:\\Users\\nivelaga\\AppData\\Local\\Continuum\\anaconda3\\lib\\site-packages\\sklearn\\naive_bayes.py:472: UserWarning: alpha too small will result in numeric errors, setting alpha = 1.0e-10\n",
      "  'setting alpha = %.1e' % _ALPHA_MIN)\n",
      "C:\\Users\\nivelaga\\AppData\\Local\\Continuum\\anaconda3\\lib\\site-packages\\sklearn\\naive_bayes.py:472: UserWarning: alpha too small will result in numeric errors, setting alpha = 1.0e-10\n",
      "  'setting alpha = %.1e' % _ALPHA_MIN)\n"
     ]
    }
   ],
   "source": [
    "#using a gradient boosted classifier instead of RF in these iterations\n",
    "KNNHyper_lda = HyperParameters(KNeighborsClassifier(), {'n_neighbors': [1, 5, 10, 20, 30, 40, 50, 75, 100, 125, 150, 175]}, LDA_train, train.HyperglycemicIncident)\n",
    "BNBHyper_lda = HyperParameters(BernoulliNB(),{'alpha': [0.0, 0.0001, 0.001, 0.01, 0.1, 0.5, 1.0, 2.0, 10.0]}, LDA_train, train.HyperglycemicIncident)\n",
    "LRHyper_lda = HyperParameters(LogisticRegression(penalty='l2'),{'C': np.arange(1,15)}, LDA_train, train.HyperglycemicIncident)\n",
    "XGBtreeHyper_lda = HyperParameters(GradientBoostingClassifier(),{'n_estimators': np.arange(80,110),'max_depth': np.arange(1,6),'min_samples_leaf': np.arange(1,5)}, LDA_train, train.HyperglycemicIncident)"
   ]
  },
  {
   "cell_type": "code",
   "execution_count": 35,
   "metadata": {},
   "outputs": [
    {
     "name": "stdout",
     "output_type": "stream",
     "text": [
      "Best KNN: \n",
      "            parameters  mean_validation_score\n",
      "7  {'n_neighbors': 75}               0.507654\n",
      "Best BNB: \n",
      "          parameters  mean_validation_score\n",
      "0     {'alpha': 0.0}               0.444328\n",
      "1  {'alpha': 0.0001}               0.444328\n",
      "2   {'alpha': 0.001}               0.444328\n",
      "3    {'alpha': 0.01}               0.444328\n",
      "4     {'alpha': 0.1}               0.444328\n",
      "5     {'alpha': 0.5}               0.444328\n",
      "6     {'alpha': 1.0}               0.444328\n",
      "7     {'alpha': 2.0}               0.444328\n",
      "8    {'alpha': 10.0}               0.444328\n",
      "Best LR: \n",
      "  parameters  mean_validation_score\n",
      "0   {'C': 1}               0.502831\n",
      "1   {'C': 2}               0.502831\n",
      "Best XGB: \n",
      "                                            parameters  mean_validation_score\n",
      "313  {'max_depth': 3, 'min_samples_leaf': 3, 'n_est...               0.505976\n"
     ]
    },
    {
     "data": {
      "text/plain": [
       "[{'max_depth': 3, 'min_samples_leaf': 3, 'n_estimators': 93}]"
      ]
     },
     "execution_count": 35,
     "metadata": {},
     "output_type": "execute_result"
    }
   ],
   "source": [
    "print(\"Best KNN: \")\n",
    "print(KNNHyper_lda[KNNHyper_lda.mean_validation_score == np.max(KNNHyper_lda.mean_validation_score)])\n",
    "\n",
    "print(\"Best BNB: \")\n",
    "print(BNBHyper_lda[BNBHyper_lda.mean_validation_score == np.max(BNBHyper_lda.mean_validation_score)])\n",
    "\n",
    "print(\"Best LR: \")\n",
    "print(LRHyper_lda[LRHyper_lda.mean_validation_score == np.max(LRHyper_lda.mean_validation_score)])\n",
    "\n",
    "print(\"Best XGB: \")\n",
    "print(XGBtreeHyper_lda[XGBtreeHyper_lda.mean_validation_score == np.max(XGBtreeHyper_lda.mean_validation_score)])\n",
    "list(XGBtreeHyper_lda[XGBtreeHyper_lda.mean_validation_score == np.max(XGBtreeHyper_lda.mean_validation_score)].parameters)"
   ]
  },
  {
   "cell_type": "code",
   "execution_count": 36,
   "metadata": {},
   "outputs": [
    {
     "name": "stdout",
     "output_type": "stream",
     "text": [
      "KNN:  0.4912\n",
      "BNB:  0.4413\n",
      "LR:  0.4941\n",
      "XGB tree:  0.4971\n"
     ]
    }
   ],
   "source": [
    "#best models\n",
    "KNN_LDA = KNeighborsClassifier(n_neighbors = 75)\n",
    "BNB_LDA = BernoulliNB(alpha = 1.0)\n",
    "LRHyper_LDA = LogisticRegression(C = 1)\n",
    "XGB_LDA = GradientBoostingClassifier(max_depth=2,min_samples_leaf=4,n_estimators=83)\n",
    "\n",
    "KNN_LDA.fit(LDA_train, train.HyperglycemicIncident)\n",
    "BNB_LDA.fit(LDA_train, train.HyperglycemicIncident)\n",
    "LRHyper_LDA.fit(LDA_train, train.HyperglycemicIncident)\n",
    "XGB_LDA.fit(LDA_train, train.HyperglycemicIncident)\n",
    "\n",
    "#accuracies of each of the optimally parameterized models\n",
    "print(\"KNN: \", str(round(accuracy_score(test.HyperglycemicIncident, KNN_LDA.predict(LDA_test)),4)))\n",
    "print(\"BNB: \", str(round(accuracy_score(test.HyperglycemicIncident, BNB_LDA.predict(LDA_test)),4)))\n",
    "print(\"LR: \", str(round(accuracy_score(test.HyperglycemicIncident, LRHyper_LDA.predict(LDA_test)),4)))\n",
    "print(\"XGB tree: \", str(round(accuracy_score(test.HyperglycemicIncident, XGB_LDA.predict(LDA_test)),4)))"
   ]
  },
  {
   "cell_type": "code",
   "execution_count": 37,
   "metadata": {},
   "outputs": [
    {
     "data": {
      "text/plain": [
       "array([[777,  42,  83],\n",
       "       [452,  54,  95],\n",
       "       [314,  48, 179]], dtype=int64)"
      ]
     },
     "execution_count": 37,
     "metadata": {},
     "output_type": "execute_result"
    }
   ],
   "source": [
    "#better performance with LDA transformed text using gradient boosted decision tree, but not as high as logistic regression over LDA topics\n",
    "confusion_matrix(test.HyperglycemicIncident, LRHyper_LDA.predict(LDA_test))"
   ]
  },
  {
   "cell_type": "markdown",
   "metadata": {},
   "source": [
    "Better performance, still not great."
   ]
  },
  {
   "cell_type": "markdown",
   "metadata": {},
   "source": [
    "# Combined Classifier"
   ]
  },
  {
   "cell_type": "code",
   "execution_count": 38,
   "metadata": {
    "collapsed": true
   },
   "outputs": [],
   "source": [
    "LDA_train.index = train_demo.index\n",
    "LDA_test.index = test_demo.index"
   ]
  },
  {
   "cell_type": "code",
   "execution_count": 39,
   "metadata": {},
   "outputs": [
    {
     "name": "stdout",
     "output_type": "stream",
     "text": [
      "class__D\n"
     ]
    }
   ],
   "source": [
    "#simple combination of all attributes\n",
    "# also adding attributes that didn't seem to fit any of the above categories: appointment type and patient class\n",
    "all_train = pd.concat([pd.get_dummies(train.PatientClass, prefix='class_'),pd.get_dummies(train.AppointmentTypeText, prefix='Appointment_'),LDA_train,train_demo,train_Hospital],axis=1)\n",
    "all_test = pd.concat([pd.get_dummies(test.PatientClass, prefix='class_'),pd.get_dummies(test.AppointmentTypeText, prefix='Appointment_'),LDA_test,test_demo,test_Hospital],axis=1)\n",
    "all_test = normalizeTrainTest(all_train,all_test)"
   ]
  },
  {
   "cell_type": "markdown",
   "metadata": {},
   "source": [
    "At this point, the data was bolstered and we received \"AppointmentTypeText\" and \"PatientClass\" - two very simple and powerfully predictive variables. Added these in with the overall classifier."
   ]
  },
  {
   "cell_type": "code",
   "execution_count": 40,
   "metadata": {},
   "outputs": [
    {
     "data": {
      "text/plain": [
       "GradientBoostingClassifier(criterion='friedman_mse', init=None,\n",
       "              learning_rate=0.1, loss='deviance', max_depth=3,\n",
       "              max_features=None, max_leaf_nodes=None,\n",
       "              min_impurity_decrease=0.0, min_impurity_split=None,\n",
       "              min_samples_leaf=4, min_samples_split=2,\n",
       "              min_weight_fraction_leaf=0.0, n_estimators=102,\n",
       "              presort='auto', random_state=None, subsample=1.0, verbose=0,\n",
       "              warm_start=False)"
      ]
     },
     "execution_count": 40,
     "metadata": {},
     "output_type": "execute_result"
    }
   ],
   "source": [
    "LR_LDA_all = LogisticRegression(C=2)\n",
    "LR_LDA_all.fit(all_train, train.HyperglycemicIncident)\n",
    "\n",
    "XGB_LDA_all = GradientBoostingClassifier(max_depth=3,min_samples_leaf=4,n_estimators=102)\n",
    "XGB_LDA_all.fit(all_train, train.HyperglycemicIncident)"
   ]
  },
  {
   "cell_type": "code",
   "execution_count": 41,
   "metadata": {},
   "outputs": [
    {
     "name": "stdout",
     "output_type": "stream",
     "text": [
      "XGB tree:  0.6199\n",
      "LR:  0.5846\n",
      "XGB confusion matrix: \n",
      "[[758 109  35]\n",
      " [288 204 109]\n",
      " [113 123 305]]\n",
      "LR confusion matrix: \n",
      "[[713 129  60]\n",
      " [288 156 157]\n",
      " [122  93 326]]\n"
     ]
    }
   ],
   "source": [
    "print(\"XGB tree: \", str(round(accuracy_score(test.HyperglycemicIncident, XGB_LDA_all.predict(all_test)),4)))\n",
    "print(\"LR: \", str(round(accuracy_score(test.HyperglycemicIncident, LR_LDA_all.predict(all_test)),4)))\n",
    "\n",
    "print(\"XGB confusion matrix: \")\n",
    "print(confusion_matrix(test.HyperglycemicIncident, XGB_LDA_all.predict(all_test)))\n",
    "print(\"LR confusion matrix: \")\n",
    "print(confusion_matrix(test.HyperglycemicIncident, LR_LDA_all.predict(all_test)))"
   ]
  },
  {
   "cell_type": "code",
   "execution_count": 42,
   "metadata": {},
   "outputs": [
    {
     "name": "stdout",
     "output_type": "stream",
     "text": [
      "XGB tree:  0.6179\n",
      "LR:  0.5851\n",
      "XGB confusion matrix: \n",
      "[[766  97  39]\n",
      " [294 185 122]\n",
      " [122 107 312]]\n",
      "LR confusion matrix: \n",
      "[[714 128  60]\n",
      " [288 157 156]\n",
      " [122  94 325]]\n"
     ]
    }
   ],
   "source": [
    "#testing results of a one vs all classifier instead of a 3-class classifier - results are similar\n",
    "from sklearn.multiclass import OneVsRestClassifier\n",
    "XGB_OneVAll = OneVsRestClassifier(GradientBoostingClassifier(max_depth=3,min_samples_leaf=4,n_estimators=102))\n",
    "LR_OneVAll = OneVsRestClassifier(LogisticRegression(C=2))\n",
    "\n",
    "XGB_OneVAll.fit(all_train, train.HyperglycemicIncident)\n",
    "LR_OneVAll.fit(all_train, train.HyperglycemicIncident)\n",
    "\n",
    "print(\"XGB tree: \", str(round(accuracy_score(test.HyperglycemicIncident, XGB_OneVAll.predict(all_test)),4)))\n",
    "print(\"LR: \", str(round(accuracy_score(test.HyperglycemicIncident, LR_OneVAll.predict(all_test)),4)))\n",
    "\n",
    "print(\"XGB confusion matrix: \")\n",
    "print(confusion_matrix(test.HyperglycemicIncident, XGB_OneVAll.predict(all_test)))\n",
    "print(\"LR confusion matrix: \")\n",
    "print(confusion_matrix(test.HyperglycemicIncident, LR_OneVAll.predict(all_test)))"
   ]
  },
  {
   "cell_type": "markdown",
   "metadata": {},
   "source": [
    "We can see that the XGB tree outperforms logistic regression in both the one versus all and multiclass classification settings."
   ]
  },
  {
   "cell_type": "code",
   "execution_count": 43,
   "metadata": {},
   "outputs": [
    {
     "data": {
      "text/plain": [
       "LastPreopGlucose               0.122570\n",
       "Age                            0.033198\n",
       "Appointment__CARDIO SURGERY    0.031357\n",
       "BMI                            0.028831\n",
       "LDA_proc_7                     0.022092\n",
       "LDA_preop_3                    0.020845\n",
       "LDA_proc_1                     0.019935\n",
       "LDA_proc_39                    0.018941\n",
       "LDA_preop_44                   0.016132\n",
       "LDA_proc_8                     0.015513\n",
       "LDA_proc_12                    0.015438\n",
       "LDA_proc_19                    0.015235\n",
       "LDA_proc_26                    0.013706\n",
       "LDA_proc_16                    0.013555\n",
       "LDA_preop_20                   0.013489\n",
       "LDA_proc_11                    0.013009\n",
       "LDA_preop_27                   0.012429\n",
       "LDA_proc_25                    0.011538\n",
       "LDA_preop_8                    0.011346\n",
       "LDA_preop_42                   0.011315\n",
       "LDA_proc_40                    0.011189\n",
       "LDA_proc_36                    0.010711\n",
       "DM__0.0                        0.010684\n",
       "class__I                       0.010480\n",
       "LDA_proc_37                    0.010315\n",
       "LDA_preop_7                    0.010159\n",
       "LDA_proc_10                    0.009663\n",
       "LDA_preop_34                   0.009448\n",
       "LDA_preop_13                   0.009185\n",
       "LDA_proc_5                     0.008678\n",
       "                                 ...   \n",
       "Surgeon__509868.0              0.000000\n",
       "Surgeon__508564.0              0.000000\n",
       "Surgeon__504309.0              0.000000\n",
       "Surgeon__500111.0              0.000000\n",
       "Surgeon__501091.0              0.000000\n",
       "Surgeon__501133.0              0.000000\n",
       "Surgeon__501374.0              0.000000\n",
       "Surgeon__501463.0              0.000000\n",
       "Surgeon__502622.0              0.000000\n",
       "Surgeon__502644.0              0.000000\n",
       "Surgeon__502676.0              0.000000\n",
       "Surgeon__502771.0              0.000000\n",
       "Surgeon__502869.0              0.000000\n",
       "Surgeon__504255.0              0.000000\n",
       "Surgeon__504261.0              0.000000\n",
       "Surgeon__504640.0              0.000000\n",
       "Surgeon__508349.0              0.000000\n",
       "Surgeon__504899.0              0.000000\n",
       "Surgeon__505868.0              0.000000\n",
       "Surgeon__505882.0              0.000000\n",
       "Surgeon__506076.0              0.000000\n",
       "Surgeon__506078.0              0.000000\n",
       "Surgeon__506107.0              0.000000\n",
       "Surgeon__506865.0              0.000000\n",
       "Surgeon__507845.0              0.000000\n",
       "Surgeon__507846.0              0.000000\n",
       "Surgeon__507864.0              0.000000\n",
       "Surgeon__507866.0              0.000000\n",
       "Surgeon__507892.0              0.000000\n",
       "class__B                       0.000000\n",
       "Length: 555, dtype: float64"
      ]
     },
     "execution_count": 43,
     "metadata": {},
     "output_type": "execute_result"
    }
   ],
   "source": [
    "#Show XGB feature importance\n",
    "pd.Series(XGB_LDA_all.feature_importances_,index=all_test.columns).sort_values(ascending=False)"
   ]
  },
  {
   "cell_type": "markdown",
   "metadata": {},
   "source": [
    "As expected, the last preoperative glucose is the most important variable while surgeon (a hospital variable) provided little use."
   ]
  },
  {
   "cell_type": "markdown",
   "metadata": {},
   "source": [
    "# Classification using Neural Network (Keras)"
   ]
  },
  {
   "cell_type": "code",
   "execution_count": 44,
   "metadata": {},
   "outputs": [],
   "source": [
    "import tensorflow as tf\n",
    "from tensorflow import keras"
   ]
  },
  {
   "cell_type": "code",
   "execution_count": 45,
   "metadata": {},
   "outputs": [
    {
     "data": {
      "text/plain": [
       "(4769, 555)"
      ]
     },
     "execution_count": 45,
     "metadata": {},
     "output_type": "execute_result"
    }
   ],
   "source": [
    "all_train.shape\n",
    "#all_test"
   ]
  },
  {
   "cell_type": "code",
   "execution_count": 46,
   "metadata": {},
   "outputs": [],
   "source": [
    "#Deep model - start with 555 features, dropout rate of .05 at each layer\n",
    "#2 hidden layers, one cuts nodes by 1/5, next down to 10\n",
    "model = keras.Sequential([\n",
    "    keras.layers.Dense(555, activation=tf.nn.relu),\n",
    "    keras.layers.Dropout(.05, noise_shape=None, seed=None),\n",
    "    keras.layers.Dense(111, activation=tf.nn.relu),\n",
    "    keras.layers.Dropout(.05, noise_shape=None, seed=None),\n",
    "    keras.layers.Dense(10, activation=tf.nn.relu),\n",
    "    keras.layers.Dropout(.05, noise_shape=None, seed=None),\n",
    "    keras.layers.Dense(3, activation=tf.nn.softmax)\n",
    "])"
   ]
  },
  {
   "cell_type": "code",
   "execution_count": 47,
   "metadata": {
    "collapsed": true
   },
   "outputs": [],
   "source": [
    "model.compile(optimizer=tf.train.AdamOptimizer(), \n",
    "              loss='sparse_categorical_crossentropy',\n",
    "              metrics=['accuracy'])"
   ]
  },
  {
   "cell_type": "code",
   "execution_count": 48,
   "metadata": {},
   "outputs": [
    {
     "name": "stdout",
     "output_type": "stream",
     "text": [
      "Epoch 1/50\n",
      "4769/4769 [==============================] - 1s 155us/step - loss: 1.0947 - acc: 0.4418\n",
      "Epoch 2/50\n",
      "4769/4769 [==============================] - 0s 98us/step - loss: 1.0225 - acc: 0.4710\n",
      "Epoch 3/50\n",
      "4769/4769 [==============================] - 0s 99us/step - loss: 1.0647 - acc: 0.5041\n",
      "Epoch 4/50\n",
      "4769/4769 [==============================] - 0s 103us/step - loss: 1.0098 - acc: 0.5408\n",
      "Epoch 5/50\n",
      "4769/4769 [==============================] - 1s 105us/step - loss: 1.0117 - acc: 0.5183\n",
      "Epoch 6/50\n",
      "4769/4769 [==============================] - 0s 99us/step - loss: 0.9630 - acc: 0.5641\n",
      "Epoch 7/50\n",
      "4769/4769 [==============================] - 0s 97us/step - loss: 0.9439 - acc: 0.5708\n",
      "Epoch 8/50\n",
      "4769/4769 [==============================] - 0s 101us/step - loss: 0.9311 - acc: 0.5785\n",
      "Epoch 9/50\n",
      "4769/4769 [==============================] - 0s 99us/step - loss: 0.9185 - acc: 0.5840\n",
      "Epoch 10/50\n",
      "4769/4769 [==============================] - 0s 97us/step - loss: 0.9102 - acc: 0.5852\n",
      "Epoch 11/50\n",
      "4769/4769 [==============================] - 0s 97us/step - loss: 0.8959 - acc: 0.5924\n",
      "Epoch 12/50\n",
      "4769/4769 [==============================] - 0s 96us/step - loss: 0.8916 - acc: 0.5959\n",
      "Epoch 13/50\n",
      "4769/4769 [==============================] - 0s 99us/step - loss: 0.8761 - acc: 0.6012\n",
      "Epoch 14/50\n",
      "4769/4769 [==============================] - 0s 102us/step - loss: 0.8583 - acc: 0.6056\n",
      "Epoch 15/50\n",
      "4769/4769 [==============================] - 0s 100us/step - loss: 0.8570 - acc: 0.6068\n",
      "Epoch 16/50\n",
      "4769/4769 [==============================] - 1s 106us/step - loss: 0.8471 - acc: 0.6106\n",
      "Epoch 17/50\n",
      "4769/4769 [==============================] - 1s 107us/step - loss: 0.8330 - acc: 0.6211\n",
      "Epoch 18/50\n",
      "4769/4769 [==============================] - 0s 104us/step - loss: 0.8314 - acc: 0.6159\n",
      "Epoch 19/50\n",
      "4769/4769 [==============================] - 0s 100us/step - loss: 0.8220 - acc: 0.6261\n",
      "Epoch 20/50\n",
      "4769/4769 [==============================] - 0s 97us/step - loss: 0.8196 - acc: 0.6289\n",
      "Epoch 21/50\n",
      "4769/4769 [==============================] - 0s 102us/step - loss: 0.8187 - acc: 0.6188\n",
      "Epoch 22/50\n",
      "4769/4769 [==============================] - 1s 109us/step - loss: 0.8060 - acc: 0.6322\n",
      "Epoch 23/50\n",
      "4769/4769 [==============================] - 1s 106us/step - loss: 0.8007 - acc: 0.6320\n",
      "Epoch 24/50\n",
      "4769/4769 [==============================] - 0s 104us/step - loss: 0.7888 - acc: 0.6400\n",
      "Epoch 25/50\n",
      "4769/4769 [==============================] - 1s 110us/step - loss: 0.8081 - acc: 0.6278\n",
      "Epoch 26/50\n",
      "4769/4769 [==============================] - 0s 100us/step - loss: 0.7857 - acc: 0.6349\n",
      "Epoch 27/50\n",
      "4769/4769 [==============================] - 0s 99us/step - loss: 0.7739 - acc: 0.6446\n",
      "Epoch 28/50\n",
      "4769/4769 [==============================] - 0s 102us/step - loss: 0.7626 - acc: 0.6525\n",
      "Epoch 29/50\n",
      "4769/4769 [==============================] - 0s 104us/step - loss: 0.7729 - acc: 0.6500\n",
      "Epoch 30/50\n",
      "4769/4769 [==============================] - 0s 100us/step - loss: 0.7556 - acc: 0.6572\n",
      "Epoch 31/50\n",
      "4769/4769 [==============================] - 0s 98us/step - loss: 0.7521 - acc: 0.6549\n",
      "Epoch 32/50\n",
      "4769/4769 [==============================] - 0s 102us/step - loss: 0.7362 - acc: 0.6643\n",
      "Epoch 33/50\n",
      "4769/4769 [==============================] - 0s 100us/step - loss: 0.7191 - acc: 0.6708\n",
      "Epoch 34/50\n",
      "4769/4769 [==============================] - 0s 103us/step - loss: 0.7329 - acc: 0.6632\n",
      "Epoch 35/50\n",
      "4769/4769 [==============================] - 0s 104us/step - loss: 0.7108 - acc: 0.6769\n",
      "Epoch 36/50\n",
      "4769/4769 [==============================] - 0s 101us/step - loss: 0.7157 - acc: 0.6748\n",
      "Epoch 37/50\n",
      "4769/4769 [==============================] - 0s 97us/step - loss: 0.6999 - acc: 0.6846\n",
      "Epoch 38/50\n",
      "4769/4769 [==============================] - 0s 99us/step - loss: 0.7227 - acc: 0.6708\n",
      "Epoch 39/50\n",
      "4769/4769 [==============================] - 0s 100us/step - loss: 0.6921 - acc: 0.6903\n",
      "Epoch 40/50\n",
      "4769/4769 [==============================] - 0s 97us/step - loss: 0.6769 - acc: 0.6980\n",
      "Epoch 41/50\n",
      "4769/4769 [==============================] - 0s 98us/step - loss: 0.6708 - acc: 0.6943\n",
      "Epoch 42/50\n",
      "4769/4769 [==============================] - 0s 98us/step - loss: 0.6709 - acc: 0.6972\n",
      "Epoch 43/50\n",
      "4769/4769 [==============================] - 0s 100us/step - loss: 0.6591 - acc: 0.7081\n",
      "Epoch 44/50\n",
      "4769/4769 [==============================] - 0s 99us/step - loss: 0.6574 - acc: 0.7016\n",
      "Epoch 45/50\n",
      "4769/4769 [==============================] - 0s 98us/step - loss: 0.6415 - acc: 0.7146\n",
      "Epoch 46/50\n",
      "4769/4769 [==============================] - 0s 99us/step - loss: 0.6184 - acc: 0.7196\n",
      "Epoch 47/50\n",
      "4769/4769 [==============================] - 0s 98us/step - loss: 0.6112 - acc: 0.7245\n",
      "Epoch 48/50\n",
      "4769/4769 [==============================] - 0s 101us/step - loss: 0.6413 - acc: 0.7106\n",
      "Epoch 49/50\n",
      "4769/4769 [==============================] - 0s 101us/step - loss: 0.5997 - acc: 0.7272\n",
      "Epoch 50/50\n",
      "4769/4769 [==============================] - 0s 99us/step - loss: 0.6611 - acc: 0.7004\n"
     ]
    },
    {
     "data": {
      "text/plain": [
       "<tensorflow.python.keras.callbacks.History at 0x19b4a35d6a0>"
      ]
     },
     "execution_count": 48,
     "metadata": {},
     "output_type": "execute_result"
    }
   ],
   "source": [
    "model.fit(np.asarray(all_train), np.asarray(train.HyperglycemicIncident), epochs=50)"
   ]
  },
  {
   "cell_type": "code",
   "execution_count": 49,
   "metadata": {},
   "outputs": [
    {
     "name": "stdout",
     "output_type": "stream",
     "text": [
      "2044/2044 [==============================] - 0s 50us/step\n",
      "Test accuracy: 0.575831702894\n"
     ]
    }
   ],
   "source": [
    "test_loss, test_acc = model.evaluate(np.array(all_test), np.array(test.HyperglycemicIncident))\n",
    "\n",
    "print('Test accuracy:', test_acc)"
   ]
  },
  {
   "cell_type": "code",
   "execution_count": 51,
   "metadata": {},
   "outputs": [
    {
     "data": {
      "text/plain": [
       "array([[688, 301, 116],\n",
       "       [165, 175, 111],\n",
       "       [ 49, 125, 314]], dtype=int64)"
      ]
     },
     "execution_count": 51,
     "metadata": {},
     "output_type": "execute_result"
    }
   ],
   "source": [
    "confusion_matrix(np.apply_along_axis(np.argmax,1,model.predict(np.array(all_test))),test.HyperglycemicIncident)"
   ]
  },
  {
   "cell_type": "markdown",
   "metadata": {},
   "source": [
    "We observe that performance is nearly as good as the gradient boosted decision tree that was previously the accuracy king. We note that the distribution of predictions is roughly the same."
   ]
  },
  {
   "cell_type": "code",
   "execution_count": 53,
   "metadata": {},
   "outputs": [
    {
     "name": "stdout",
     "output_type": "stream",
     "text": [
      "Normalized confusion matrix\n",
      "[[ 0.62  0.27  0.1 ]\n",
      " [ 0.37  0.39  0.25]\n",
      " [ 0.1   0.26  0.64]]\n",
      "Normalized confusion matrix\n",
      "[[ 0.84  0.12  0.04]\n",
      " [ 0.48  0.34  0.18]\n",
      " [ 0.21  0.23  0.56]]\n"
     ]
    },
    {
     "data": {
      "image/png": "[encoded data removed]",
      "text/plain": [
       "<matplotlib.figure.Figure at 0x19b4ac6a320>"
      ]
     },
     "metadata": {},
     "output_type": "display_data"
    },
    {
     "data": {
      "image/png": "[encoded data removed]",
      "text/plain": [
       "<matplotlib.figure.Figure at 0x19b4ac72860>"
      ]
     },
     "metadata": {},
     "output_type": "display_data"
    }
   ],
   "source": [
    "# Compute confusion matrix for NN\n",
    "cnf_matrix = confusion_matrix(np.apply_along_axis(np.argmax,1,model.predict(np.array(all_test))),test.HyperglycemicIncident)\n",
    "np.set_printoptions(precision=2)\n",
    "# Plot normalized confusion matrix\n",
    "plt.figure()\n",
    "plot_confusion_matrix(cnf_matrix, classes=['None','HG Incident','Severe Incident'], normalize=True,\n",
    "                      title='Normalized confusion matrix - Neural Net')\n",
    "\n",
    "# Compute confusion matrix for XGB tree\n",
    "cnf_matrix = confusion_matrix(test.HyperglycemicIncident, XGB_LDA_all.predict(all_test))\n",
    "np.set_printoptions(precision=2)\n",
    "# Plot normalized confusion matrix\n",
    "plt.figure()\n",
    "plot_confusion_matrix(cnf_matrix, classes=['None','HG Incident','Severe Incident'], normalize=True,\n",
    "                      title='Normalized confusion matrix - Boosted Classifier')\n",
    "\n",
    "plt.show()"
   ]
  },
  {
   "cell_type": "markdown",
   "metadata": {},
   "source": [
    "Finalizing these classification results and making a prettier confusion matrix."
   ]
  },
  {
   "cell_type": "markdown",
   "metadata": {},
   "source": [
    "# Continuous prediction later binned into discrete buckets"
   ]
  },
  {
   "cell_type": "markdown",
   "metadata": {},
   "source": [
    "One thought was to predict peak glucose level as a continuous variable and then bin that prediction into the associated class."
   ]
  },
  {
   "cell_type": "code",
   "execution_count": 54,
   "metadata": {
    "collapsed": true
   },
   "outputs": [],
   "source": [
    "from sklearn.linear_model import LinearRegression\n",
    "from sklearn.svm import SVR"
   ]
  },
  {
   "cell_type": "code",
   "execution_count": 55,
   "metadata": {
    "collapsed": true
   },
   "outputs": [],
   "source": [
    "#added additional data: patient class and appointment type\n",
    "#attempted with broad specification and narrow, find better performance with narrow\n",
    "#ideally would perform stepwise model search, unsure how to do this in python\n",
    "#train_dummies = pd.concat([pd.get_dummies(train.PatientClass),pd.get_dummies(train.AppointmentTypeText),pd.get_dummies(train.Gender),pd.get_dummies(train['HbA1C (Last one within 6 mo)']), train.BMI, train['Last Preoperative Glucose Value '], LDA_train, train_Hospital],axis=1)\n",
    "train_dummies = pd.concat([pd.get_dummies(train.PatientClass),pd.get_dummies(train.AppointmentTypeText),pd.get_dummies(train.Gender),pd.get_dummies(train['HbA1C (Last one within 6 mo)']), train.BMI, train['Last Preoperative Glucose Value ']],axis=1)\n",
    "#test_dummies = pd.concat([pd.get_dummies(test.PatientClass),pd.get_dummies(test.AppointmentTypeText),pd.get_dummies(test.Gender),pd.get_dummies(test['HbA1C (Last one within 6 mo)']), test.BMI, test['Last Preoperative Glucose Value '], LDA_test, test_Hospital],axis=1)\n",
    "test_dummies = pd.concat([pd.get_dummies(test.PatientClass),pd.get_dummies(test.AppointmentTypeText),pd.get_dummies(test.Gender),pd.get_dummies(test['HbA1C (Last one within 6 mo)']), test.BMI, test['Last Preoperative Glucose Value ']],axis=1)"
   ]
  },
  {
   "cell_type": "markdown",
   "metadata": {},
   "source": [
    "Used both regression and SVR models. Removed outliers from the training data since outliers can be high leverage in a regression setting."
   ]
  },
  {
   "cell_type": "code",
   "execution_count": 56,
   "metadata": {},
   "outputs": [
    {
     "name": "stderr",
     "output_type": "stream",
     "text": [
      "C:\\Users\\nivelaga\\AppData\\Local\\Continuum\\anaconda3\\lib\\site-packages\\ipykernel_launcher.py:3: UserWarning: Boolean Series key will be reindexed to match DataFrame index.\n",
      "  This is separate from the ipykernel package so we can avoid doing imports until\n",
      "C:\\Users\\nivelaga\\AppData\\Local\\Continuum\\anaconda3\\lib\\site-packages\\ipykernel_launcher.py:4: UserWarning: Boolean Series key will be reindexed to match DataFrame index.\n",
      "  after removing the cwd from sys.path.\n"
     ]
    }
   ],
   "source": [
    "#Narrowing training set to exclude outliers, which can have a larger impact on regression models\n",
    "train_dummies = train_dummies[(train.Weight < 500) & (train.Weight != 0)]\n",
    "train_dummies = train_dummies[(train['Last Preoperative Glucose Value '] < 500)]\n",
    "train_dummies = train_dummies[(train['Peak glucose value'] < 500)]"
   ]
  },
  {
   "cell_type": "code",
   "execution_count": 57,
   "metadata": {},
   "outputs": [
    {
     "name": "stdout",
     "output_type": "stream",
     "text": [
      "13.5\n",
      "D\n",
      "U\n"
     ]
    }
   ],
   "source": [
    "train_dummies.loc[pd.isnull(train_dummies['Last Preoperative Glucose Value ']), 'Last Preoperative Glucose Value '] = np.median(train.loc[~pd.isnull(train['Last Preoperative Glucose Value ']), 'Last Preoperative Glucose Value '])\n",
    "test_dummies.loc[pd.isnull(test_dummies['Last Preoperative Glucose Value ']), 'Last Preoperative Glucose Value '] = np.median(train.loc[~pd.isnull(train['Last Preoperative Glucose Value ']), 'Last Preoperative Glucose Value '])\n",
    "test_dummies = normalizeTrainTest(train_dummies,test_dummies)"
   ]
  },
  {
   "cell_type": "code",
   "execution_count": 58,
   "metadata": {},
   "outputs": [
    {
     "data": {
      "text/plain": [
       "SVR(C=20, cache_size=200, coef0=0.0, degree=3, epsilon=0.1, gamma='auto',\n",
       "  kernel='rbf', max_iter=-1, shrinking=True, tol=0.001, verbose=False)"
      ]
     },
     "execution_count": 58,
     "metadata": {},
     "output_type": "execute_result"
    }
   ],
   "source": [
    "ContLR = LinearRegression()\n",
    "ContSVR = SVR(C=20)\n",
    "\n",
    "truncLabels = train.loc[(train.Weight < 500) & (train.Weight != 0) & (train['Last Preoperative Glucose Value '] < 500) & (train['Peak glucose value'] < 500), 'Peak glucose value']\n",
    "\n",
    "ContLR.fit(train_dummies,truncLabels)\n",
    "ContSVR.fit(train_dummies,truncLabels)"
   ]
  },
  {
   "cell_type": "code",
   "execution_count": 59,
   "metadata": {},
   "outputs": [
    {
     "name": "stderr",
     "output_type": "stream",
     "text": [
      "C:\\Users\\nivelaga\\AppData\\Local\\Continuum\\anaconda3\\lib\\site-packages\\ipykernel_launcher.py:1: SettingWithCopyWarning: \n",
      "A value is trying to be set on a copy of a slice from a DataFrame.\n",
      "Try using .loc[row_indexer,col_indexer] = value instead\n",
      "\n",
      "See the caveats in the documentation: http://pandas.pydata.org/pandas-docs/stable/indexing.html#indexing-view-versus-copy\n",
      "  \"\"\"Entry point for launching an IPython kernel.\n",
      "C:\\Users\\nivelaga\\AppData\\Local\\Continuum\\anaconda3\\lib\\site-packages\\ipykernel_launcher.py:2: SettingWithCopyWarning: \n",
      "A value is trying to be set on a copy of a slice from a DataFrame.\n",
      "Try using .loc[row_indexer,col_indexer] = value instead\n",
      "\n",
      "See the caveats in the documentation: http://pandas.pydata.org/pandas-docs/stable/indexing.html#indexing-view-versus-copy\n",
      "  \n"
     ]
    }
   ],
   "source": [
    "test['LR_pred'] = ContLR.predict(test_dummies)\n",
    "test['SVR_pred'] = ContSVR.predict(test_dummies)"
   ]
  },
  {
   "cell_type": "code",
   "execution_count": 60,
   "metadata": {},
   "outputs": [
    {
     "name": "stderr",
     "output_type": "stream",
     "text": [
      "C:\\Users\\nivelaga\\AppData\\Local\\Continuum\\anaconda3\\lib\\site-packages\\ipykernel_launcher.py:1: SettingWithCopyWarning: \n",
      "A value is trying to be set on a copy of a slice from a DataFrame.\n",
      "Try using .loc[row_indexer,col_indexer] = value instead\n",
      "\n",
      "See the caveats in the documentation: http://pandas.pydata.org/pandas-docs/stable/indexing.html#indexing-view-versus-copy\n",
      "  \"\"\"Entry point for launching an IPython kernel.\n",
      "C:\\Users\\nivelaga\\AppData\\Local\\Continuum\\anaconda3\\lib\\site-packages\\ipykernel_launcher.py:2: SettingWithCopyWarning: \n",
      "A value is trying to be set on a copy of a slice from a DataFrame.\n",
      "Try using .loc[row_indexer,col_indexer] = value instead\n",
      "\n",
      "See the caveats in the documentation: http://pandas.pydata.org/pandas-docs/stable/indexing.html#indexing-view-versus-copy\n",
      "  \n",
      "C:\\Users\\nivelaga\\AppData\\Local\\Continuum\\anaconda3\\lib\\site-packages\\pandas\\core\\indexing.py:543: SettingWithCopyWarning: \n",
      "A value is trying to be set on a copy of a slice from a DataFrame.\n",
      "Try using .loc[row_indexer,col_indexer] = value instead\n",
      "\n",
      "See the caveats in the documentation: http://pandas.pydata.org/pandas-docs/stable/indexing.html#indexing-view-versus-copy\n",
      "  self.obj[item] = s\n"
     ]
    }
   ],
   "source": [
    "test['LR_pred_cat'] = 1\n",
    "test['SVR_pred_cat'] = 1\n",
    "\n",
    "test.loc[test.LR_pred < 140, 'LR_pred_cat'] = 0\n",
    "test.loc[test.SVR_pred < 140, 'SVR_pred_cat'] = 0\n",
    "\n",
    "test.loc[test.LR_pred > 180, 'LR_pred_cat'] = 2\n",
    "test.loc[test.SVR_pred > 180, 'SVR_pred_cat'] = 2"
   ]
  },
  {
   "cell_type": "code",
   "execution_count": 61,
   "metadata": {},
   "outputs": [
    {
     "name": "stdout",
     "output_type": "stream",
     "text": [
      "LR accuracy: 0.548923679061\n",
      "[[486 394  22]\n",
      " [133 380  88]\n",
      " [ 51 234 256]]\n",
      "SVR accuracy: 0.518590998043\n",
      "[[536 360   6]\n",
      " [175 378  48]\n",
      " [ 72 323 146]]\n"
     ]
    }
   ],
   "source": [
    "print('LR accuracy: ' + str(accuracy_score(test.HyperglycemicIncident, test.LR_pred_cat)))\n",
    "print(confusion_matrix(test.HyperglycemicIncident, test.LR_pred_cat))\n",
    "print('SVR accuracy: ' + str(accuracy_score(test.HyperglycemicIncident, test.SVR_pred_cat)))\n",
    "print(confusion_matrix(test.HyperglycemicIncident, test.SVR_pred_cat))"
   ]
  },
  {
   "cell_type": "markdown",
   "metadata": {},
   "source": [
    "Linear regression outperforms SVRs."
   ]
  },
  {
   "cell_type": "code",
   "execution_count": 62,
   "metadata": {},
   "outputs": [
    {
     "name": "stdout",
     "output_type": "stream",
     "text": [
      "Normalized confusion matrix\n",
      "[[ 0.54  0.44  0.02]\n",
      " [ 0.22  0.63  0.15]\n",
      " [ 0.09  0.43  0.47]]\n"
     ]
    },
    {
     "data": {
      "image/png": "[encoded data removed]",
      "text/plain": [
       "<matplotlib.figure.Figure at 0x19b37656c88>"
      ]
     },
     "metadata": {},
     "output_type": "display_data"
    }
   ],
   "source": [
    "# Compute confusion matrix for XGB tree\n",
    "cnf_matrix = confusion_matrix(test.HyperglycemicIncident, test.LR_pred_cat)\n",
    "np.set_printoptions(precision=2)\n",
    "# Plot normalized confusion matrix\n",
    "plt.figure()\n",
    "plot_confusion_matrix(cnf_matrix, classes=['None','HG Incident','Severe Incident'], normalize=True,\n",
    "                      title='Normalized confusion matrix - Boosted Classifier')\n",
    "\n",
    "plt.show()"
   ]
  },
  {
   "cell_type": "markdown",
   "metadata": {},
   "source": [
    "And finally, to print the coefficients. We see that HBA1C values are heavily weighted, as are varies appointment types."
   ]
  },
  {
   "cell_type": "code",
   "execution_count": 63,
   "metadata": {},
   "outputs": [
    {
     "data": {
      "text/plain": [
       "14.0                               -30.545820\n",
       "11.0                               -15.227015\n",
       "ORAL SURGERY                       -14.669616\n",
       "PLASTIC                            -12.930522\n",
       "ORTHOPEDICS                        -10.398967\n",
       "9.0                                 -9.058594\n",
       "9.5                                 -9.034522\n",
       "4.5                                 -8.103559\n",
       "7.5                                 -7.517167\n",
       "6.5                                 -5.971133\n",
       "NEUROSURGERY                        -5.672134\n",
       "O                                   -5.624213\n",
       "6.0                                 -5.584257\n",
       "GYNECOLOGY                          -5.422222\n",
       "PLASTICS                            -5.377166\n",
       "UROLOGY                             -4.684687\n",
       "8.5                                 -4.608813\n",
       "M                                   -4.213913\n",
       "5.5                                 -3.988718\n",
       "GENERAL SURGERY                     -3.218700\n",
       "B                                   -2.986229\n",
       "VASCULAR SURGERY                    -2.586089\n",
       "F                                   -2.552145\n",
       "5.0                                 -1.948193\n",
       "11.5                                -1.907314\n",
       "10.5                                -1.788005\n",
       "OTOLARYNGOLOGY                      -1.078178\n",
       "13.0                                -1.042494\n",
       "BMI                                  0.000338\n",
       "Last Preoperative Glucose Value      0.625755\n",
       "D                                    0.834974\n",
       "7.0                                  2.249177\n",
       "10.0                                 2.525362\n",
       "THORACIC SURGERY                     4.212015\n",
       "U                                    6.766058\n",
       "8.0                                  7.475138\n",
       "I                                    7.775469\n",
       "ANESTHESIA OFF SITE                 11.358955\n",
       "4.0                                 12.040083\n",
       "TRANSPLANT SURGERY                  14.271929\n",
       "12.0                                21.578931\n",
       "<4.0                                27.343827\n",
       "12.5                                33.113086\n",
       "CARDIO SURGERY                      36.195382\n",
       "dtype: float64"
      ]
     },
     "execution_count": 63,
     "metadata": {},
     "output_type": "execute_result"
    }
   ],
   "source": [
    "pd.Series(ContLR.coef_,index = train_dummies.columns).sort_values()\n"
   ]
  },
  {
   "cell_type": "markdown",
   "metadata": {
    "collapsed": true
   },
   "source": [
    "That's all! Seems that plain classification is better accuracy than regression + binning by about 5 percentage points. Additionally, we observe that the best performance is obtained with a gradient boosted decision tree. I note that not much time was spent on optimizing network structure: it's possible that sweeping over layers/dropout structure would have further boosted the predictive power of the network."
   ]
  },
  {
   "cell_type": "code",
   "execution_count": null,
   "metadata": {
    "collapsed": true
   },
   "outputs": [],
   "source": []
  }
 ],
 "metadata": {
  "kernelspec": {
   "display_name": "Python 3",
   "language": "python",
   "name": "python3"
  },
  "language_info": {
   "codemirror_mode": {
    "name": "ipython",
    "version": 3
   },
   "file_extension": ".py",
   "mimetype": "text/x-python",
   "name": "python",
   "nbconvert_exporter": "python",
   "pygments_lexer": "ipython3",
   "version": "3.6.8"
  }
 },
 "nbformat": 4,
 "nbformat_minor": 2
}
