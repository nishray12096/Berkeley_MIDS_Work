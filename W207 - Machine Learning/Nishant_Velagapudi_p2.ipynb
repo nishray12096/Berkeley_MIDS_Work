{
 "cells": [
  {
   "cell_type": "markdown",
   "metadata": {},
   "source": [
    "# Project 2: Topic Classification"
   ]
  },
  {
   "cell_type": "markdown",
   "metadata": {},
   "source": [
    "In this project, you'll work with text data from newsgroup postings on a variety of topics. You'll train classifiers to distinguish between the topics based on the text of the posts. Whereas with digit classification, the input is relatively dense: a 28x28 matrix of pixels, many of which are non-zero, here we'll represent each document with a \"bag-of-words\" model. As you'll see, this makes the feature representation quite sparse -- only a few words of the total vocabulary are active in any given document. The bag-of-words assumption here is that the label depends only on the words; their order is not important.\n",
    "\n",
    "The SK-learn documentation on feature extraction will prove useful:\n",
    "http://scikit-learn.org/stable/modules/feature_extraction.html\n",
    "\n",
    "Each problem can be addressed succinctly with the included packages -- please don't add any more. Grading will be based on writing clean, commented code, along with a few short answers.\n",
    "\n",
    "As always, you're welcome to work on the project in groups and discuss ideas on the course wall, but please prepare your own write-up and write your own code."
   ]
  },
  {
   "cell_type": "code",
   "execution_count": 1,
   "metadata": {},
   "outputs": [
    {
     "name": "stderr",
     "output_type": "stream",
     "text": [
      "C:\\Users\\nivelaga\\AppData\\Local\\Continuum\\anaconda3\\envs\\ipykernel_py2\\lib\\site-packages\\sklearn\\cross_validation.py:41: DeprecationWarning: This module was deprecated in version 0.18 in favor of the model_selection module into which all the refactored classes and functions are moved. Also note that the interface of the new CV iterators are different from that of this module. This module will be removed in 0.20.\n",
      "  \"This module will be removed in 0.20.\", DeprecationWarning)\n",
      "C:\\Users\\nivelaga\\AppData\\Local\\Continuum\\anaconda3\\envs\\ipykernel_py2\\lib\\site-packages\\sklearn\\grid_search.py:42: DeprecationWarning: This module was deprecated in version 0.18 in favor of the model_selection module into which all the refactored classes and functions are moved. This module will be removed in 0.20.\n",
      "  DeprecationWarning)\n"
     ]
    }
   ],
   "source": [
    "import pandas as pd\n",
    "\n",
    "# This tells matplotlib not to try opening a new window for each plot.\n",
    "%matplotlib inline\n",
    "\n",
    "# General libraries.\n",
    "import re\n",
    "import numpy as np\n",
    "import matplotlib.pyplot as plt\n",
    "\n",
    "# SK-learn libraries for learning.\n",
    "from sklearn.pipeline import Pipeline\n",
    "from sklearn.neighbors import KNeighborsClassifier\n",
    "from sklearn.linear_model import LogisticRegression\n",
    "from sklearn.naive_bayes import BernoulliNB\n",
    "from sklearn.naive_bayes import MultinomialNB\n",
    "from sklearn.grid_search import GridSearchCV\n",
    "\n",
    "# SK-learn libraries for evaluation.\n",
    "from sklearn.metrics import confusion_matrix\n",
    "from sklearn import metrics\n",
    "from sklearn.metrics import classification_report\n",
    "\n",
    "# SK-learn library for importing the newsgroup data.\n",
    "from sklearn.datasets import fetch_20newsgroups\n",
    "\n",
    "# SK-learn libraries for feature extraction from text.\n",
    "from sklearn.feature_extraction.text import *"
   ]
  },
  {
   "cell_type": "markdown",
   "metadata": {},
   "source": [
    "Load the data, stripping out metadata so that we learn classifiers that only use textual features. By default, newsgroups data is split into train and test sets. We further split the test so we have a dev set. Note that we specify 4 categories to use for this project. If you remove the categories argument from the fetch function, you'll get all 20 categories."
   ]
  },
  {
   "cell_type": "code",
   "execution_count": 2,
   "metadata": {},
   "outputs": [
    {
     "name": "stdout",
     "output_type": "stream",
     "text": [
      "training label shape: (2034L,)\n",
      "test label shape: (677L,)\n",
      "dev label shape: (676L,)\n",
      "labels names: ['alt.atheism', 'comp.graphics', 'sci.space', 'talk.religion.misc']\n"
     ]
    }
   ],
   "source": [
    "categories = ['alt.atheism', 'talk.religion.misc', 'comp.graphics', 'sci.space']\n",
    "newsgroups_train = fetch_20newsgroups(subset='train',\n",
    "                                      remove=('headers', 'footers', 'quotes'),\n",
    "                                      categories=categories)\n",
    "newsgroups_test = fetch_20newsgroups(subset='test',\n",
    "                                     remove=('headers', 'footers', 'quotes'),\n",
    "                                     categories=categories)\n",
    "\n",
    "num_test = len(newsgroups_test.target)\n",
    "test_data, test_labels = newsgroups_test.data[num_test/2:], newsgroups_test.target[num_test/2:]\n",
    "dev_data, dev_labels = newsgroups_test.data[:num_test/2], newsgroups_test.target[:num_test/2]\n",
    "train_data, train_labels = newsgroups_train.data, newsgroups_train.target\n",
    "\n",
    "print 'training label shape:', train_labels.shape\n",
    "print 'test label shape:', test_labels.shape\n",
    "print 'dev label shape:', dev_labels.shape\n",
    "print 'labels names:', newsgroups_train.target_names"
   ]
  },
  {
   "cell_type": "markdown",
   "metadata": {},
   "source": [
    "(1) For each of the first 5 training examples, print the text of the message along with the label.\n",
    "\n",
    "[2 pts]"
   ]
  },
  {
   "cell_type": "code",
   "execution_count": 3,
   "metadata": {
    "collapsed": true
   },
   "outputs": [],
   "source": [
    "label_lookup = pd.DataFrame(newsgroups_train.target_names).reset_index()\n",
    "label_lookup.columns = ['LabelNum','LabelName']"
   ]
  },
  {
   "cell_type": "code",
   "execution_count": 4,
   "metadata": {},
   "outputs": [
    {
     "name": "stdout",
     "output_type": "stream",
     "text": [
      "                                             Message  LabelNum  \\\n",
      "0  Hi,\\n\\nI've noticed that if you only save a mo...         1   \n",
      "1  \\nAcorn Replay running on a 25MHz ARM 3 proces...         1   \n",
      "2  I'm interested in find out what is involved in...         1   \n",
      "3  \\n\\nSeems to be, barring evidence to the contr...         3   \n",
      "4  \\n >In article <1993Apr19.020359.26996@sq.sq.c...         2   \n",
      "5  AW&ST  had a brief blurb on a Manned Lunar Exp...         2   \n",
      "6  Mark Prado\\n  \\n  \\nOld pioneer song from the ...         2   \n",
      "7  \\nTheir Hiten engineering-test mission spent a...         2   \n",
      "8  I have a request for those who would like to s...         0   \n",
      "9  \\nThere are definitely quite a few horrible de...         0   \n",
      "\n",
      "            LabelName  \n",
      "0       comp.graphics  \n",
      "1       comp.graphics  \n",
      "2       comp.graphics  \n",
      "3  talk.religion.misc  \n",
      "4           sci.space  \n",
      "5           sci.space  \n",
      "6           sci.space  \n",
      "7           sci.space  \n",
      "8         alt.atheism  \n",
      "9         alt.atheism  \n"
     ]
    }
   ],
   "source": [
    "def P1(num_examples=5):\n",
    "### STUDENT START ###\n",
    "#Join to add labels\n",
    "    FiveExamples = pd.concat([pd.DataFrame(train_data).head(num_examples),pd.DataFrame(train_labels).head(num_examples)],axis=1)\n",
    "    FiveExamples.columns = ['Message','LabelNum']\n",
    "    result = FiveExamples.merge(label_lookup, on='LabelNum', how='inner')\n",
    "    print result\n",
    "### STUDENT END ###\n",
    "P1(10)"
   ]
  },
  {
   "cell_type": "markdown",
   "metadata": {},
   "source": [
    "(2) Use CountVectorizer to turn the raw training text into feature vectors. You should use the fit_transform function, which makes 2 passes through the data: first it computes the vocabulary (\"fit\"), second it converts the raw text into feature vectors using the vocabulary (\"transform\").\n",
    "\n",
    "The vectorizer has a lot of options. To get familiar with some of them, write code to answer these questions:\n",
    "\n",
    "a. The output of the transform (also of fit_transform) is a sparse matrix: http://docs.scipy.org/doc/scipy-0.14.0/reference/generated/scipy.sparse.csr_matrix.html. What is the size of the vocabulary? What is the average number of non-zero features per example? What fraction of the entries in the matrix are non-zero? Hint: use \"nnz\" and \"shape\" attributes.\n",
    "\n",
    "b. What are the 0th and last feature strings (in alphabetical order)? Hint: use the vectorizer's get_feature_names function.\n",
    "\n",
    "c. Specify your own vocabulary with 4 words: [\"atheism\", \"graphics\", \"space\", \"religion\"]. Confirm the training vectors are appropriately shaped. Now what's the average number of non-zero features per example?\n",
    "\n",
    "d. Instead of extracting unigram word features, use \"analyzer\" and \"ngram_range\" to extract bigram and trigram character features. What size vocabulary does this yield?\n",
    "\n",
    "e. Use the \"min_df\" argument to prune words that appear in fewer than 10 documents. What size vocabulary does this yield?\n",
    "\n",
    "f. Using the standard CountVectorizer, what fraction of the words in the dev data are missing from the vocabulary? Hint: build a vocabulary for both train and dev and look at the size of the difference.\n",
    "\n",
    "[6 pts]"
   ]
  },
  {
   "cell_type": "code",
   "execution_count": 96,
   "metadata": {},
   "outputs": [
    {
     "name": "stdout",
     "output_type": "stream",
     "text": [
      "a.\n",
      "Vocabulary size: 26879\n",
      "Non-zero features per sample: 96.706\n",
      "Percentage of nonzero elements: 0.3598%\n",
      "b.\n",
      "word zero: 00\n",
      "last word: zyxel\n",
      "c.\n",
      "Shape of truncated count vectorizer: (2034, 4)\n",
      "Non-zero features per sample: 0.2684\n",
      "d.\n",
      "Vocabulary of bigrams and trigrams: 28954\n",
      "e.\n",
      "Vocabulary of words with >10 occurrences: 3064\n",
      "f.\n",
      "Percentage of dev vocab not in training vocab: 0.9024\n"
     ]
    }
   ],
   "source": [
    "def P2():\n",
    "### STUDENT START ###\n",
    "    cv = CountVectorizer()\n",
    "    train_CV = cv.fit_transform(train_data)\n",
    "    #a. use vectorizer properties\n",
    "    print \"a.\"\n",
    "    print \"Vocabulary size: \" + str(train_CV.shape[1])\n",
    "    print \"Non-zero features per sample: \" + str(round(float(train_CV.nnz) / (train_CV.shape[0]),4))\n",
    "    print \"Percentage of nonzero elements: \" + str(round(float(train_CV.nnz) * 100 / (train_CV.shape[0] * train_CV.shape[1]),4)) + \"%\"\n",
    "    \n",
    "    #b.\n",
    "    print \"b.\"\n",
    "    print \"word zero: \" + cv.get_feature_names()[0]\n",
    "    print \"last word: \" + cv.get_feature_names()[len(cv.get_feature_names())-1]\n",
    "    \n",
    "    #c.\n",
    "    print \"c.\"\n",
    "    truncVocab = [\"atheism\", \"graphics\", \"space\", \"religion\"]\n",
    "    trunc_CV = CountVectorizer(vocabulary = truncVocab)\n",
    "    trunc_Data_CV = trunc_CV.fit_transform(train_data)\n",
    "    print \"Shape of truncated count vectorizer: \" + str(trunc_Data_CV.shape)\n",
    "    print \"Non-zero features per sample: \" + str(round(float(trunc_Data_CV.nnz) / (trunc_Data_CV.shape[0]),4))\n",
    "    \n",
    "    #d.\n",
    "    print \"d.\"\n",
    "    ngram_CV = CountVectorizer(ngram_range=(2,3),analyzer='char_wb')\n",
    "    ngram_CV_Data = ngram_CV.fit_transform(train_data)\n",
    "    print \"Vocabulary of bigrams and trigrams: \" + str(ngram_CV_Data.shape[1])\n",
    "    \n",
    "    #e.\n",
    "    print \"e.\"\n",
    "    cv_min = CountVectorizer(min_df=10)\n",
    "    train_CV_min = cv_min.fit_transform(train_data)\n",
    "    print \"Vocabulary of words with >10 occurrences: \" + str(train_CV_min.shape[1])\n",
    "    \n",
    "    #f.\n",
    "    print \"f.\"\n",
    "    cv = CountVectorizer()\n",
    "    train_CV = cv.fit_transform(train_data)\n",
    "    cv_dev = CountVectorizer()\n",
    "    cv_dev_data = cv_dev.fit_transform(dev_data)\n",
    "    dev = cv.get_feature_names()\n",
    "    trainVocab = cv_dev.get_feature_names()\n",
    "    \n",
    "    missingCounter = 0\n",
    "    for word in dev:\n",
    "        if word not in trainVocab:\n",
    "            missingCounter += 1\n",
    "            \n",
    "    print \"Percentage of dev vocab not in training vocab: \" + str(round(float(missingCounter) / cv_dev_data.shape[1],4))\n",
    "### STUDENT END ###\n",
    "P2()"
   ]
  },
  {
   "cell_type": "markdown",
   "metadata": {},
   "source": [
    "(3) Use the default CountVectorizer options and report the f1 score (use metrics.f1_score) for a k nearest neighbors classifier; find the optimal value for k. Also fit a Multinomial Naive Bayes model and find the optimal value for alpha. Finally, fit a logistic regression model and find the optimal value for the regularization strength C using l2 regularization. A few questions:\n",
    "\n",
    "a. Why doesn't nearest neighbors work well for this problem?\n",
    "\n",
    "b. Any ideas why logistic regression doesn't work as well as Naive Bayes?\n",
    "\n",
    "c. Logistic regression estimates a weight vector for each class, which you can access with the coef\\_ attribute. Output the sum of the squared weight values for each class for each setting of the C parameter. Briefly explain the relationship between the sum and the value of C.\n",
    "\n",
    "[4 pts]"
   ]
  },
  {
   "cell_type": "code",
   "execution_count": 6,
   "metadata": {},
   "outputs": [
    {
     "name": "stdout",
     "output_type": "stream",
     "text": [
      "               parameters  mean_validation_score\n",
      "0     {u'n_neighbors': 1}               0.409046\n",
      "1     {u'n_neighbors': 5}               0.409046\n",
      "2    {u'n_neighbors': 10}               0.413471\n",
      "3    {u'n_neighbors': 20}               0.418879\n",
      "4    {u'n_neighbors': 30}               0.404621\n",
      "5    {u'n_neighbors': 40}               0.412488\n",
      "6    {u'n_neighbors': 50}               0.432153\n",
      "7    {u'n_neighbors': 75}               0.425270\n",
      "8   {u'n_neighbors': 100}               0.434612\n",
      "9   {u'n_neighbors': 125}               0.438053\n",
      "10  {u'n_neighbors': 150}               0.445919\n",
      "11  {u'n_neighbors': 175}               0.442970\n",
      "Best KNN neighbors parameter: \n",
      "{'n_neighbors': 150}\n"
     ]
    },
    {
     "name": "stderr",
     "output_type": "stream",
     "text": [
      "C:\\Users\\nivelaga\\AppData\\Local\\Continuum\\anaconda3\\envs\\ipykernel_py2\\lib\\site-packages\\sklearn\\naive_bayes.py:472: UserWarning: alpha too small will result in numeric errors, setting alpha = 1.0e-10\n",
      "  'setting alpha = %.1e' % _ALPHA_MIN)\n"
     ]
    },
    {
     "name": "stdout",
     "output_type": "stream",
     "text": [
      "           parameters  mean_validation_score\n",
      "0     {u'alpha': 0.0}               0.811701\n",
      "1  {u'alpha': 0.0001}               0.825467\n",
      "2   {u'alpha': 0.001}               0.825959\n",
      "3    {u'alpha': 0.01}               0.828417\n",
      "4     {u'alpha': 0.1}               0.822026\n",
      "5     {u'alpha': 0.5}               0.808751\n",
      "6     {u'alpha': 1.0}               0.795969\n",
      "7     {u'alpha': 2.0}               0.773845\n",
      "8    {u'alpha': 10.0}               0.684366\n",
      "Best Multinomial NB alpha parameter: \n",
      "{'alpha': 0.01}\n",
      "    parameters  mean_validation_score\n",
      "0    {u'C': 1}               0.763029\n",
      "1    {u'C': 2}               0.762537\n",
      "2    {u'C': 3}               0.762537\n",
      "3    {u'C': 4}               0.761554\n",
      "4    {u'C': 5}               0.759587\n",
      "5    {u'C': 6}               0.758112\n",
      "6    {u'C': 7}               0.757620\n",
      "7    {u'C': 8}               0.754671\n",
      "8    {u'C': 9}               0.754179\n",
      "9   {u'C': 10}               0.754671\n",
      "10  {u'C': 11}               0.753196\n",
      "11  {u'C': 12}               0.753196\n",
      "12  {u'C': 13}               0.754179\n",
      "13  {u'C': 14}               0.754671\n",
      "                    parameters  mean_validation_score\n",
      "0                  {u'C': 0.1}               0.766470\n",
      "1                  {u'C': 0.2}               0.776303\n",
      "2  {u'C': 0.30000000000000004}               0.770895\n",
      "3                  {u'C': 0.4}               0.772861\n",
      "4                  {u'C': 0.5}               0.771386\n",
      "5                  {u'C': 0.6}               0.770895\n",
      "6   {u'C': 0.7000000000000001}               0.768928\n",
      "7                  {u'C': 0.8}               0.768437\n",
      "8                  {u'C': 0.9}               0.764503\n",
      "Best LR C parameter: \n",
      "{'C': 0.2}\n",
      "C value versus total coefficient squared (part c): \n",
      "    coefs         0.1         0.2  0.30000000000000004         0.4  \\\n",
      "0.1   NaN  102.269555  184.474515           254.829172  317.234669   \n",
      "0.2   NaN  102.269555  184.474515           254.829172  317.234669   \n",
      "0.3   NaN  102.269555  184.474515           254.829172  317.234669   \n",
      "0.4   NaN  102.269555  184.474515           254.829172  317.234669   \n",
      "0.5   NaN  102.269555  184.474515           254.829172  317.234669   \n",
      "0.6   NaN  102.269555  184.474515           254.829172  317.234669   \n",
      "0.7   NaN  102.269555  184.474515           254.829172  317.234669   \n",
      "0.8   NaN  102.269555  184.474515           254.829172  317.234669   \n",
      "0.9   NaN  102.269555  184.474515           254.829172  317.234669   \n",
      "\n",
      "            0.5         0.6  0.7000000000000001         0.8         0.9  \n",
      "0.1  373.763513  425.625969          473.733803  518.961385  561.608138  \n",
      "0.2  373.763513  425.625969          473.733803  518.961385  561.608138  \n",
      "0.3  373.763513  425.625969          473.733803  518.961385  561.608138  \n",
      "0.4  373.763513  425.625969          473.733803  518.961385  561.608138  \n",
      "0.5  373.763513  425.625969          473.733803  518.961385  561.608138  \n",
      "0.6  373.763513  425.625969          473.733803  518.961385  561.608138  \n",
      "0.7  373.763513  425.625969          473.733803  518.961385  561.608138  \n",
      "0.8  373.763513  425.625969          473.733803  518.961385  561.608138  \n",
      "0.9  373.763513  425.625969          473.733803  518.961385  561.608138  \n"
     ]
    }
   ],
   "source": [
    "def P3():\n",
    "### STUDENT START ###\n",
    "    cv = CountVectorizer()\n",
    "    train_CV = cv.fit_transform(train_data)\n",
    "    \n",
    "    #Using GridSearchCV to find best parameters in each case\n",
    "    \n",
    "    KNN_Model = KNeighborsClassifier()\n",
    "    KNNGridSearch = GridSearchCV(KNN_Model,param_grid={'n_neighbors': [1, 5, 10, 20, 30, 40, 50, 75, 100, 125, 150, 175]})\n",
    "    KNNGridSearch.fit(train_CV,train_labels)\n",
    "    print pd.DataFrame(KNNGridSearch.grid_scores_)[['parameters', 'mean_validation_score']]\n",
    "    #shows that the best score could be more than 100 - score still climbing\n",
    "    print \"Best KNN neighbors parameter: \"\n",
    "    print(KNNGridSearch.best_params_)\n",
    "    KNN_Model = KNeighborsClassifier(n_neighbors = KNNGridSearch.best_params_['n_neighbors'])\n",
    "    KNN_Model.fit(train_CV,train_labels)\n",
    "    \n",
    "    MultiNB = MultinomialNB()\n",
    "    MultiNBSearch = GridSearchCV(MultiNB,param_grid={'alpha': [0.0, 0.0001, 0.001, 0.01, 0.1, 0.5, 1.0, 2.0, 10.0]})\n",
    "    MultiNBSearch.fit(train_CV,train_labels)\n",
    "    print pd.DataFrame(MultiNBSearch.grid_scores_)[['parameters', 'mean_validation_score']]\n",
    "    print \"Best Multinomial NB alpha parameter: \"\n",
    "    print(MultiNBSearch.best_params_)\n",
    "    MultiNB = MultinomialNB(alpha=MultiNBSearch.best_params_['alpha'])\n",
    "    MultiNB.fit(train_CV,train_labels)\n",
    "    \n",
    "    LR = LogisticRegression(penalty='l2',C=1)\n",
    "    LRSearch = GridSearchCV(LR,param_grid={'C': np.arange(1,15)})\n",
    "    LRSearch.fit(train_CV,train_labels)\n",
    "    print pd.DataFrame(LRSearch.grid_scores_)[['parameters', 'mean_validation_score']]\n",
    "    #shows that the best score could be less than one - score only drops from 1 onwards\n",
    "    #will retry the grid search\n",
    "    LR = LogisticRegression(penalty='l2',C=.1)\n",
    "    LRSearch = GridSearchCV(LR,param_grid={'C': np.arange(.1,1,step=.1)})\n",
    "    LRSearch.fit(train_CV,train_labels)\n",
    "    print pd.DataFrame(LRSearch.grid_scores_)[['parameters', 'mean_validation_score']]\n",
    "    print \"Best LR C parameter: \"\n",
    "    print(LRSearch.best_params_)\n",
    "    \n",
    "    LR = LogisticRegression(penalty='l2',C=LRSearch.best_params_['C'])\n",
    "    LR.fit(train_CV,train_labels)\n",
    "    \n",
    "    WeightsDF = pd.DataFrame(columns = ['coefs'], index = np.arange(.1,1,step=.1))\n",
    "    \n",
    "    for C in np.arange(.1,1,step=.1):\n",
    "        LR = LogisticRegression(penalty='l2',C=C)\n",
    "        LR.fit(train_CV,train_labels)\n",
    "        WeightsDF[C] = np.sum(np.square(LR.coef_))\n",
    "    print \"C value versus total coefficient squared (part c): \"\n",
    "    print WeightsDF\n",
    "### STUDENT END ###\n",
    "P3()"
   ]
  },
  {
   "cell_type": "markdown",
   "metadata": {},
   "source": [
    "ANSWERS:\n",
    "a. Nearest neighbors is calculating a vector distance between each training datapoint. Using a simple count vectorizer, simple, uninformative words will confound these vector distances (words like: the, and, it, or).\n",
    "\n",
    "b. Naive Bayes allows for weighting of words by likelihood of occurrence overall. Logistic regression can only add a linear probably to a cumulative sum based on the presence of a given word. This could be limiting the impact of \"rare\" words, while Naive Bayes takes full advantage of rare but high information words.\n",
    "\n",
    "c. In L2 regularization, the magnitude of the coefficients is penalized. When we increase C, we increase the degree to which coefficient magnitude is penalized, and thus the coefficients on each individual word will be dampened to compensate for the increased penalty terms."
   ]
  },
  {
   "cell_type": "markdown",
   "metadata": {},
   "source": [
    "(4) Train a logistic regression model. Find the 5 features with the largest weights for each label -- 20 features in total. Create a table with 20 rows and 4 columns that shows the weight for each of these features for each of the labels. Create the table again with bigram features. Any surprising features in this table?\n",
    "\n",
    "[5 pts]"
   ]
  },
  {
   "cell_type": "code",
   "execution_count": 7,
   "metadata": {},
   "outputs": [
    {
     "name": "stderr",
     "output_type": "stream",
     "text": [
      "C:\\Users\\nivelaga\\AppData\\Local\\Continuum\\anaconda3\\envs\\ipykernel_py2\\lib\\site-packages\\ipykernel_launcher.py:13: SettingWithCopyWarning: \n",
      "A value is trying to be set on a copy of a slice from a DataFrame.\n",
      "Try using .loc[row_indexer,col_indexer] = value instead\n",
      "\n",
      "See the caveats in the documentation: http://pandas.pydata.org/pandas-docs/stable/indexing.html#indexing-view-versus-copy\n",
      "  del sys.path[0]\n"
     ]
    },
    {
     "name": "stdout",
     "output_type": "stream",
     "text": [
      "Unigram most important words and weights\n",
      "       alt.atheism  comp.graphics  sci.space  talk.religion.misc       words\n",
      "22567    -0.819150      -0.875358   1.505895           -0.740853       space\n",
      "24076    -0.520681       0.387669   0.164436           -0.547848      thanks\n",
      "11552    -0.503243       1.255138  -0.829106           -0.471195    graphics\n",
      "17609    -0.473431      -0.048886  -0.098170            0.554049       order\n",
      "5904     -0.442626      -0.218789  -0.277091            0.668053  christians\n",
      "22567    -0.819150      -0.875358   1.505895           -0.740853       space\n",
      "11399     0.070047      -0.540518  -0.623287            0.342882         god\n",
      "26270     0.040889      -0.499824  -0.103209            0.343859         who\n",
      "18240     0.205676      -0.463732  -0.107726           -0.023516      people\n",
      "11984     0.021412      -0.434086  -0.219325            0.241276          he\n",
      "11552    -0.503243       1.255138  -0.829106           -0.471195    graphics\n",
      "11399     0.070047      -0.540518  -0.623287            0.342882         god\n",
      "10376    -0.213978       0.808667  -0.528633           -0.372614        file\n",
      "20430     0.615363      -0.381235  -0.499915           -0.019723    religion\n",
      "12769    -0.341974       0.833419  -0.487571           -0.280146       image\n",
      "22567    -0.819150      -0.875358   1.505895           -0.740853       space\n",
      "24076    -0.520681       0.387669   0.164436           -0.547848      thanks\n",
      "7073      0.152511      -0.085347   0.204399           -0.534054       could\n",
      "9027     -0.080978       0.136793   0.134541           -0.505094         edu\n",
      "16793    -0.125253       0.433090  -0.018273           -0.483261        need\n",
      "Bigram most important words and weights\n",
      "        alt.atheism  comp.graphics  sci.space  talk.religion.misc  \\\n",
      "98723     -0.483092       0.848250  -0.373455           -0.424819   \n",
      "65546     -0.365939       0.209159  -0.069992           -0.105625   \n",
      "184243    -0.358017       0.047684   0.085078            0.118872   \n",
      "81950     -0.355354       0.653378  -0.330181           -0.315109   \n",
      "85804     -0.333294       0.290704  -0.063646           -0.053236   \n",
      "37174      0.418703      -0.495626  -0.478153            0.424471   \n",
      "162974     0.077185      -0.481140   0.075095            0.116918   \n",
      "167336    -0.211935      -0.386953   0.668258           -0.213206   \n",
      "165984    -0.281642      -0.385629   0.676826           -0.181212   \n",
      "117456    -0.161749      -0.324083   0.044374            0.153236   \n",
      "37174      0.418703      -0.495626  -0.478153            0.424471   \n",
      "163684     0.222634      -0.319455  -0.394481            0.259812   \n",
      "98723     -0.483092       0.848250  -0.373455           -0.424819   \n",
      "83190      0.362237      -0.009865  -0.371370           -0.085713   \n",
      "193317     0.346619      -0.228430  -0.369304            0.055082   \n",
      "98723     -0.483092       0.848250  -0.373455           -0.424819   \n",
      "51959     -0.292409       0.353680   0.021202           -0.377809   \n",
      "119245    -0.165959       0.100233   0.067774           -0.323660   \n",
      "7432      -0.177034       0.252494   0.067365           -0.320475   \n",
      "81950     -0.355354       0.653378  -0.330181           -0.315109   \n",
      "\n",
      "                words  \n",
      "98723     looking for  \n",
      "65546         for the  \n",
      "184243        want to  \n",
      "81950      in advance  \n",
      "85804   interested in  \n",
      "37174     cheers kent  \n",
      "162974       that the  \n",
      "167336      the space  \n",
      "165984       the moon  \n",
      "117456         of the  \n",
      "37174     cheers kent  \n",
      "163684      the bible  \n",
      "98723     looking for  \n",
      "83190         in this  \n",
      "193317        you are  \n",
      "98723     looking for  \n",
      "51959     does anyone  \n",
      "119245         on the  \n",
      "7432          able to  \n",
      "81950      in advance  \n"
     ]
    },
    {
     "name": "stderr",
     "output_type": "stream",
     "text": [
      "C:\\Users\\nivelaga\\AppData\\Local\\Continuum\\anaconda3\\envs\\ipykernel_py2\\lib\\site-packages\\ipykernel_launcher.py:27: SettingWithCopyWarning: \n",
      "A value is trying to be set on a copy of a slice from a DataFrame.\n",
      "Try using .loc[row_indexer,col_indexer] = value instead\n",
      "\n",
      "See the caveats in the documentation: http://pandas.pydata.org/pandas-docs/stable/indexing.html#indexing-view-versus-copy\n"
     ]
    }
   ],
   "source": [
    "def P4():\n",
    "#Unigram\n",
    "    cv = CountVectorizer()\n",
    "    train_CV = cv.fit_transform(train_data)\n",
    "\n",
    "    LR = LogisticRegression(penalty='l2',C=0.2)\n",
    "    LR.fit(train_CV,train_labels)\n",
    "\n",
    "    CoefficientMat_Inv = pd.DataFrame(LR.coef_.transpose())\n",
    "    #identify highest weight words by the top 5 words for each category independently\n",
    "    Top5Words = np.append(np.append(CoefficientMat_Inv[0].sort_values().head(5).index, CoefficientMat_Inv[1].sort_values().head(5).index),np.append(CoefficientMat_Inv[2].sort_values().head(5).index, CoefficientMat_Inv[3].sort_values().head(5).index))\n",
    "    Top5_4class = CoefficientMat_Inv.loc[Top5Words]\n",
    "    Top5_4class.columns = newsgroups_train.target_names\n",
    "    Top5_4class['words'] = pd.Series(cv.get_feature_names()).loc[Top5Words]\n",
    "    print \"Unigram most important words and weights\"\n",
    "    print Top5_4class\n",
    "#Bigram\n",
    "    cv = CountVectorizer(ngram_range=(2,2))\n",
    "    train_CV = cv.fit_transform(train_data)\n",
    "\n",
    "    LR = LogisticRegression(penalty='l2',C=0.2)\n",
    "    LR.fit(train_CV,train_labels)\n",
    "\n",
    "    CoefficientMat_Inv = pd.DataFrame(LR.coef_.transpose())\n",
    "    Top5Words = np.append(np.append(CoefficientMat_Inv[0].sort_values().head(5).index, CoefficientMat_Inv[1].sort_values().head(5).index),np.append(CoefficientMat_Inv[2].sort_values().head(5).index, CoefficientMat_Inv[3].sort_values().head(5).index))\n",
    "    Top5_4class = CoefficientMat_Inv.loc[Top5Words]\n",
    "    Top5_4class.columns = newsgroups_train.target_names\n",
    "    Top5_4class['words'] = pd.Series(cv.get_feature_names()).loc[Top5Words]\n",
    "    print \"Bigram most important words and weights\"\n",
    "    print Top5_4class\n",
    "P4()\n"
   ]
  },
  {
   "cell_type": "markdown",
   "metadata": {},
   "source": [
    "ANSWER: The bigrams don't appear particularly informative. While the words selected from the unigram features appear to directly link to the categories, the bigram features don't seem informative towards one class or another at all. It is also interesting that some of the unigrams and bigrams are highly weighted in multiple categories - this could lead to model confusion and misclassification."
   ]
  },
  {
   "cell_type": "markdown",
   "metadata": {},
   "source": [
    "(5) Try to improve the logistic regression classifier by passing a custom preprocessor to CountVectorizer. The preprocessing function runs on the raw text, before it is split into words by the tokenizer. Your preprocessor should try to normalize the input in various ways to improve generalization. For example, try lowercasing everything, replacing sequences of numbers with a single token, removing various other non-letter characters, and shortening long words. If you're not already familiar with regular expressions for manipulating strings, see https://docs.python.org/2/library/re.html, and re.sub() in particular. With your new preprocessor, how much did you reduce the size of the dictionary?\n",
    "\n",
    "For reference, I was able to improve dev F1 by 2 points.\n",
    "\n",
    "[4 pts]"
   ]
  },
  {
   "cell_type": "code",
   "execution_count": 13,
   "metadata": {},
   "outputs": [
    {
     "name": "stdout",
     "output_type": "stream",
     "text": [
      "Accuracy with no processing: 0.713\n",
      "F1 with processing: 0.6878\n",
      "Untransformed data shape: (2034, 26879)\n",
      "Accuracy with processing: 0.7219\n",
      "F1 with processing: 0.7003\n",
      "Transformed data shape: (2034, 19835)\n"
     ]
    }
   ],
   "source": [
    "#nltk gives predefined functions for text cleaning\n",
    "import nltk\n",
    "#stemming reduces dimensionality of words\n",
    "from nltk.stem.porter import *\n",
    "#can use an NLTK corpus to check if the word is an english word\n",
    "from nltk.corpus import words\n",
    "#string functions for manipulations outside of nltk\n",
    "import string \n",
    "#for model performance eval\n",
    "from sklearn.metrics import accuracy_score, f1_score\n",
    "\n",
    "def empty_preprocessor(s):\n",
    "    return s\n",
    "\n",
    "def better_preprocessor(s):\n",
    "### STUDENT START ###\n",
    "    #use the porter premade stemmer\n",
    "    stemmer = PorterStemmer()\n",
    "    #clear punctuation\n",
    "    s = ''.join(ch for ch in s if ch not in string.punctuation)\n",
    "    #replace numbers with numeric token\n",
    "    s = re.sub(\"\\d{2,10000}\", \"<NUMTOKEN>\", s)\n",
    "    #stem each word\n",
    "    s = ''.join(stemmer.stem(w) + \" \" for w in nltk.word_tokenize(s))\n",
    "    return s\n",
    "\n",
    "### STUDENT END ###\n",
    "\n",
    "def P5():\n",
    "    ### STUDENT START ###\n",
    "    cv = CountVectorizer()\n",
    "    train_CV = cv.fit_transform(pd.Series(train_data).apply(empty_preprocessor))\n",
    "    LR = LogisticRegression(penalty='l2',C=0.2)\n",
    "    LR.fit(train_CV,train_labels)\n",
    "    \n",
    "    dev_CV = cv.transform(pd.Series(dev_data).apply(empty_preprocessor))\n",
    "    print \"Accuracy with no processing: \" + str(round(accuracy_score(dev_labels, LR.predict(dev_CV)),4))\n",
    "    print \"F1 with processing: \" + str(round(f1_score(dev_labels, LR.predict(dev_CV),average='macro'),4))\n",
    "    print \"Untransformed data shape: \" + str(train_CV.shape)\n",
    "    \n",
    "    #reinitialize CV so that we don't have info from previous corpus\n",
    "    cv = CountVectorizer()\n",
    "    train_CV = cv.fit_transform(pd.Series(train_data).apply(better_preprocessor))\n",
    "    LR = LogisticRegression(penalty='l2',C=0.2)\n",
    "    LR.fit(train_CV,train_labels)\n",
    "    \n",
    "    dev_CV = cv.transform(pd.Series(dev_data).apply(better_preprocessor))\n",
    "    print \"Accuracy with processing: \" + str(round(accuracy_score(dev_labels, LR.predict(dev_CV)),4))\n",
    "    print \"F1 with processing: \" + str(round(f1_score(dev_labels, LR.predict(dev_CV),average='macro'),4))\n",
    "    print \"Transformed data shape: \" + str(train_CV.shape)\n",
    "    ### STUDENT END ###\n",
    "    \n",
    "\n",
    "P5()"
   ]
  },
  {
   "cell_type": "markdown",
   "metadata": {},
   "source": [
    "ANSWER: By removing punctuation, substituting a token for all numbers above 2 digits in length, and stemming all words, we improve accuracy about slightly more than 1% in the dev set. We improve dev set F1 score by about 1.2%. These changes reduce the features in the vectorizer from 26879 to 19835."
   ]
  },
  {
   "cell_type": "markdown",
   "metadata": {},
   "source": [
    "(6) The idea of regularization is to avoid learning very large weights (which are likely to fit the training data, but not generalize well) by adding a penalty to the total size of the learned weights. That is, logistic regression seeks the set of weights that minimizes errors in the training data AND has a small size. The default regularization, L2, computes this size as the sum of the squared weights (see P3, above). L1 regularization computes this size as the sum of the absolute values of the weights. The result is that whereas L2 regularization makes all the weights relatively small, L1 regularization drives lots of the weights to 0, effectively removing unimportant features.\n",
    "\n",
    "Train a logistic regression model using a \"l1\" penalty. Output the number of learned weights that are not equal to zero. How does this compare to the number of non-zero weights you get with \"l2\"? Now, reduce the size of the vocabulary by keeping only those features that have at least one non-zero weight and retrain a model using \"l2\".\n",
    "\n",
    "Make a plot showing accuracy of the re-trained model vs. the vocabulary size you get when pruning unused features by adjusting the C parameter.\n",
    "\n",
    "Note: The gradient descent code that trains the logistic regression model sometimes has trouble converging with extreme settings of the C parameter. Relax the convergence criteria by setting tol=.01 (the default is .0001).\n",
    "\n",
    "[4 pts]"
   ]
  },
  {
   "cell_type": "code",
   "execution_count": 47,
   "metadata": {},
   "outputs": [
    {
     "data": {
      "image/png": "[encoded data removed]",
      "text/plain": [
       "<Figure size 432x288 with 1 Axes>"
      ]
     },
     "metadata": {},
     "output_type": "display_data"
    }
   ],
   "source": [
    "def P6():\n",
    "    ### STUDENT START ###\n",
    "    # Keep this random seed here to make comparison easier.\n",
    "    np.random.seed(0)\n",
    "    #iterate over c values to generate variation in coefficient weights for charting\n",
    "    cVals = np.append(np.arange(0.1,1,step=.1), np.arange(1,5,step=1))\n",
    "    AccuracyVocabDF = pd.DataFrame(columns=['VocabSize','Accuracy'],index=cVals)\n",
    "    for c in cVals:\n",
    "        cv = CountVectorizer()\n",
    "        train_CV = cv.fit_transform(train_data)\n",
    "        LR = LogisticRegression(penalty='l1',C=c)\n",
    "        LR.fit(train_CV,train_labels)\n",
    "        coefDF = pd.DataFrame(LR.coef_.transpose())\n",
    "        AccuracyVocabDF.loc[c, 'VocabSize'] = len(coefDF[(coefDF[0] != 0) | (coefDF[1] != 0) | (coefDF[2] != 0) | (coefDF[3] != 0)])\n",
    "        NonZeroCoeffs = coefDF[(coefDF[0] != 0) | (coefDF[1] != 0) | (coefDF[2] != 0) | (coefDF[3] != 0)].index\n",
    "\n",
    "        LR = LogisticRegression(penalty='l2',tol=0.1)\n",
    "        LR.fit(train_CV[:,NonZeroCoeffs],train_labels)\n",
    "\n",
    "        dev_CV = cv.transform(pd.Series(dev_data).apply(better_preprocessor))\n",
    "        AccuracyVocabDF.loc[c, 'Accuracy'] = round(accuracy_score(dev_labels, LR.predict(dev_CV[:,NonZeroCoeffs])),4)\n",
    "\n",
    "    plt.plot(AccuracyVocabDF.VocabSize,AccuracyVocabDF.Accuracy, linestyle='None', marker='*')\n",
    "    plt.title('Accuracy versus Non-Zero Coefficient weights: L2 After L1 Regularization')\n",
    "    plt.xlabel('Non-Zero Coefficient Weights')\n",
    "    plt.ylabel('Dev Set Accuracy')\n",
    "    \n",
    "\n",
    "    ### STUDENT END ###\n",
    "P6()"
   ]
  },
  {
   "cell_type": "markdown",
   "metadata": {},
   "source": [
    "(7) Use the TfidfVectorizer -- how is this different from the CountVectorizer? Train a logistic regression model with C=100.\n",
    "\n",
    "Make predictions on the dev data and show the top 3 documents where the ratio R is largest, where R is:\n",
    "\n",
    "maximum predicted probability / predicted probability of the correct label\n",
    "\n",
    "What kinds of mistakes is the model making? Suggest a way to address one particular issue that you see.\n",
    "\n",
    "[4 pts]"
   ]
  },
  {
   "cell_type": "code",
   "execution_count": 95,
   "metadata": {},
   "outputs": [
    {
     "name": "stdout",
     "output_type": "stream",
     "text": [
      "Categories: ['alt.atheism', 'comp.graphics', 'sci.space', 'talk.religion.misc']\n",
      "Three worst misclassifications in terms of R Ratio: \n",
      "    labels predictions    R_Ratio\n",
      "607      0           3  12.174166\n",
      "215      3           1   7.909815\n",
      "665      3           1   7.721977\n",
      "Text in Three worst Misclassifications: \n",
      "[u'\\nThe 24 children were, of course, killed by a lone gunman in a second story\\nwindow, who fired eight bullets in the space of two seconds...\\n'\n",
      " u'I am pleased to announce that a *revised version* of _The Easy-to-Read Book\\nof Mormon_ (former title: _Mormon\\'s Book_) by Lynn Matthews Anderson is now\\navailable through anonymous ftp (see information below). In addition to the\\nchange in title, the revised ETR BOM has been shortened by several pages\\n(eliminating many extraneous \"that\\'s\" and \"of\\'s\"), and many (minor) errors\\nhave been corrected. This release includes a simplified Joseph Smith Story,\\ntestimonies of the three and eight witnesses, and a \"Words-to-Know\"\\nglossary.\\n\\nAs with the previous announcement, readers are reminded that this is a\\nnot-for-profit endeavor. This is a copyrighted work, but people are welcome\\nto make *verbatim* copies for personal use. People can recuperate the\\nactual costs of printing (paper, copy center charges), but may not charge\\nanything for their time in making copies, or in any way realize a profit\\nfrom the use of this book. See the permissions notice in the book itself\\nfor the precise terms.\\n\\nNegotiations are currently underway with a Mormon publisher vis-a-vis the\\nprinting and distribution of bound books. (Sorry, I\\'m out of the wire-bound\\n\"first editions.\") I will make another announcement about the availability\\nof printed copies once everything has been worked out.\\n\\nFTP information: connect via anonymous ftp to carnot.itc.cmu.edu, then \"cd\\npub\" (you won\\'t see anything at all until you do).\\n\\n\"The Easy-to-Read Book of Mormon\" is currently available in postscript and\\nRTF (rich text format). (ASCII, LaTeX, and other versions can be made\\navailable; contact dba@andrew.cmu.edu for details.) You should be able to\\nprint the postscript file on any postscript printer (such as an Apple\\nLaserwriter); let dba know if you have any difficulties. (The postscript in\\nthe last release had problems on some printers; this time it should work\\nbetter.) RTF is a standard document interchange format that can be read in\\nby a number of word processors, including Microsoft Word for both the\\nMacintosh and Windows. If you don\\'t have a postscript printer, you may be\\nable to use the RTF file to print out a copy of the book.\\n\\n-r--r--r--  1 dba                   1984742 Apr 27 13:12 etrbom.ps\\n-r--r--r--  1 dba                   1209071 Apr 27 13:13 etrbom.rtf\\n\\nFor more information about how this project came about, please refer to my\\narticle in the current issue of _Sunstone_, entitled \"Delighting in\\nPlainness: Issues Surrounding a Simple Modern English Book of Mormon.\"\\n\\nSend all inquiries and comments to:\\n\\n    Lynn Matthews Anderson\\n    5806 Hampton Street\\n    Pittsburgh, PA 15206'\n",
      " u'Can anyone provide me a ftp site where I can obtain a online version\\nof the Book of Mormon. Please email the internet address if possible.']\n"
     ]
    }
   ],
   "source": [
    "def P7():\n",
    "    ### STUDENT START ###\n",
    "    tfidf = TfidfVectorizer()\n",
    "    train_tfidf = tfidf.fit_transform(train_data)\n",
    "    LR = LogisticRegression(C=100)\n",
    "    LR.fit(train_CV,train_labels)\n",
    "\n",
    "    dev_tfidf = tfidf.transform(dev_data)\n",
    "    predictions = LR.predict(dev_tfidf)\n",
    "    predictions_probs = LR.predict_proba(dev_tfidf)\n",
    "\n",
    "    Predictions_DF = pd.DataFrame([predictions,predictions_probs,dev_labels]).transpose()\n",
    "    Predictions_DF.columns = ['predictions','prediction_probabilities','labels']\n",
    "    Predictions_DF['MaxPredictionProb'] = Predictions_DF.prediction_probabilities.apply(np.amax)\n",
    "\n",
    "    Predictions_DF['LabelProbability'] = 0\n",
    "    for index, row in Predictions_DF.iterrows():\n",
    "        LabelInd = row['labels']\n",
    "        LabelProb = row['prediction_probabilities'][LabelInd]\n",
    "        Predictions_DF.loc[index, 'LabelProbability'] = LabelProb\n",
    "\n",
    "    Predictions_DF['R_Ratio'] = Predictions_DF.MaxPredictionProb / Predictions_DF.LabelProbability\n",
    "    print \"Categories: \" + str(newsgroups_train.target_names)\n",
    "    print \"Three worst misclassifications in terms of R Ratio: \"\n",
    "    print Predictions_DF.sort_values(by='R_Ratio',ascending=False).head(3)[['labels','predictions','R_Ratio']]\n",
    "    print \"Text in Three worst Misclassifications: \"\n",
    "    print np.asarray(dev_data)[Predictions_DF.sort_values(by='R_Ratio',ascending=False).head(3).index]\n",
    "    ### STUDENT END ###\n",
    "P7()"
   ]
  },
  {
   "cell_type": "markdown",
   "metadata": {},
   "source": [
    "ANSWER: Two of the three worst misclassifications are predictions into label 1 (comp.graphics), when they actually belong to the last label (talk.religion.misc). Reading these texts, the problem is that there are several details about technology (FTP instructions, etc.) are included despite the religious keyword (\"Mormon\" specifically). To correct for these errors, we would want to increase the weight of the coefficients on words such as \"Mormon\", while reducing the weights on coefficients of words related to technology independently. I would consider replacing keywords relating to technology with a representative token (similar to the number token used previously). In the TF-IDF methodology, this would increase the document frequency of each individual technology word, so the weight for a word like \"ASCII\" or \"FTP\" wouldn't be so independently large and able to collectively change the classification from religion to technology (or at least, would shift the R Ratio downwards)."
   ]
  },
  {
   "cell_type": "markdown",
   "metadata": {},
   "source": [
    "(8) EXTRA CREDIT\n",
    "\n",
    "Try implementing one of your ideas based on your error analysis. Use logistic regression as your underlying model.\n",
    "\n",
    "- [1 pt] for a reasonable attempt\n",
    "- [2 pts] for improved performance"
   ]
  }
 ],
 "metadata": {
  "kernelspec": {
   "display_name": "Python 2",
   "language": "python",
   "name": "python2"
  },
  "language_info": {
   "codemirror_mode": {
    "name": "ipython",
    "version": 2
   },
   "file_extension": ".py",
   "mimetype": "text/x-python",
   "name": "python",
   "nbconvert_exporter": "python",
   "pygments_lexer": "ipython2",
   "version": "2.7.15"
  }
 },
 "nbformat": 4,
 "nbformat_minor": 1
}
